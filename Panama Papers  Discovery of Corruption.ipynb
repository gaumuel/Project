{
 "cells": [
  {
   "cell_type": "markdown",
   "metadata": {},
   "source": [
    "# Panama Papers: Discovery of Corruption"
   ]
  },
  {
   "cell_type": "markdown",
   "metadata": {},
   "source": [
    "* Students: Ilija Gjorgjiev, Gauthier Mueller, Mahmoud Zgolli\n",
    "* Dataset: Panama Papers"
   ]
  },
  {
   "cell_type": "code",
   "execution_count": 106,
   "metadata": {},
   "outputs": [
    {
     "data": {
      "application/javascript": [
       "$(\"head\").append($(\"<link/>\").attr({\n",
       "  rel:  \"stylesheet\",\n",
       "  type: \"text/css\",\n",
       "  href: \"https://cdnjs.cloudflare.com/ajax/libs/vis/4.8.2/vis.css\"\n",
       "}));\n",
       "require.config({     paths: {         vis: '//cdnjs.cloudflare.com/ajax/libs/vis/4.8.2/vis.min'     } }); require(['vis'], function(vis) {  window.vis = vis; }); "
      ],
      "text/plain": [
       "<IPython.core.display.Javascript object>"
      ]
     },
     "metadata": {},
     "output_type": "display_data"
    }
   ],
   "source": [
    "import pandas as pd\n",
    "import numpy as np\n",
    "import matplotlib.pyplot as plt\n",
    "import seaborn as sns\n",
    "from scipy import stats\n",
    "from py2neo import Graph, Node, Relationship\n",
    "import neo4jupyter\n",
    "import networkx as nx\n",
    "import csv, os, sys\n",
    "\n",
    "%matplotlib inline\n",
    "import matplotlib as mpl\n",
    "mpl.style.use(\"ggplot\")\n",
    "\n",
    "from pputils import *\n",
    "\n",
    "neo4jupyter.init_notebook_mode()\n",
    "\n",
    "%matplotlib inline\n"
   ]
  },
  {
   "cell_type": "markdown",
   "metadata": {},
   "source": [
    "# 2. Load and convert Data"
   ]
  },
  {
   "cell_type": "markdown",
   "metadata": {},
   "source": [
    "The downloaded dataset file has 5 csv files.\n",
    "\n",
    "1/ Entity: Offshore company created in a low-tax by an offshore jurisdiction agent.\n",
    "\n",
    "2/ Officer: Person or company who plays a role in an offshore entity.\n",
    "\n",
    "3/ Edges : \n",
    "\n",
    "4/ Address: A contact postal address.\n",
    "\n",
    "5/ Intermediary: Intermediar between someone looking for an offshore corporation and an offshore service provider."
   ]
  },
  {
   "cell_type": "code",
   "execution_count": 2,
   "metadata": {},
   "outputs": [],
   "source": [
    "#Load Data\n",
    "panama_entity = pd.read_csv('./Data/panama_papers/panama_papers.nodes.entity.csv', low_memory=False)\n",
    "panama_officer = pd.read_csv('./Data/panama_papers/panama_papers.nodes.officer.csv', low_memory=False)\n",
    "panama_edges = pd.read_csv(\"./Data/panama_papers/panama_papers.edges.csv\", low_memory=False)\n",
    "panama_address = pd.read_csv(\"./Data/panama_papers/panama_papers.nodes.address.csv\", low_memory=False)\n",
    "panama_intermediary = pd.read_csv(\"./Data/panama_papers/panama_papers.nodes.intermediary.csv\", low_memory=False)\n",
    "fortune_500_comp = pd.read_csv(\"./Data/fortune_500_companies_US.csv\", low_memory=False, encoding='latin-1')"
   ]
  },
  {
   "cell_type": "markdown",
   "metadata": {},
   "source": [
    "### Gini Vs frequency "
   ]
  },
  {
   "cell_type": "code",
   "execution_count": 108,
   "metadata": {},
   "outputs": [],
   "source": [
    "# Building query to fetch data from API\n",
    "apiBase = \"http://api.worldbank.org/indicator/\"\n",
    "apiIndicator = \"SI.POV.GINI\"    # This can be changed to any other indicator\n",
    "FILE_NAME = 'gini-index.csv'\n",
    "source = apiBase+apiIndicator+\"?format=csv\"\n",
    "#Import gini index data\n",
    "giniIndex = pd.read_csv(source)\n",
    "giniIndex.to_csv('./Data/gini-index.csv', sep=\",\", index=False)\n"
   ]
  },
  {
   "cell_type": "code",
   "execution_count": 115,
   "metadata": {},
   "outputs": [
    {
     "name": "stdout",
     "output_type": "stream",
     "text": [
      "-0.09082132894651794\n",
      "0.5722607229416976\n"
     ]
    },
    {
     "data": {
      "image/png": "[encoded data removed]",
      "text/plain": [
       "<matplotlib.figure.Figure at 0x1a2a5ca9e8>"
      ]
     },
     "metadata": {},
     "output_type": "display_data"
    }
   ],
   "source": [
    "# frequency of the country in the panama dataframe\n",
    "frequency=pd.DataFrame(panama_entity[\"countries\"].value_counts()).reset_index().rename(index=str, columns={\"index\": \"Country\", \"countries\": \"frequency\"})\n",
    "#Gini Data wrangling\n",
    "lst =[str(x) for x in range(1960,2018)]\n",
    "gini_index=pd.DataFrame()\n",
    "gini_index['Country']=giniIndex['Country Name']\n",
    "gini_index['Gini']=giniIndex[lst].mean(axis=1)    # take the mean over the years \n",
    "#merge gini with frequency \n",
    "freq_gini = pd.merge(frequency,gini_index,how='inner').dropna()\n",
    "#only countries existing more than 100 times\n",
    "freq_gini =freq_gini[freq_gini['frequency'].apply(lambda x: x>100)]\n",
    "#plot the gini index vs frquency \n",
    "freq_gini[['Gini','frequency']].plot(kind='scatter', x='Gini', y='frequency', grid=True,figsize=(14,5))\n",
    "slope, intercept, r_value, p_value, std_err = stats.linregress(freq_gini['Gini'], freq_gini['frequency'])\n",
    "plt.plot(freq_gini['Gini'], intercept + slope*freq_gini['Gini'], 'r', label='fitted line')\n",
    "#correlation and p values \n",
    "print(r_value)\n",
    "print(p_value)"
   ]
  },
  {
   "cell_type": "code",
   "execution_count": 112,
   "metadata": {},
   "outputs": [
    {
     "name": "stdout",
     "output_type": "stream",
     "text": [
      "0.3596631418571956\n",
      "0.014088757537746263\n"
     ]
    },
    {
     "data": {
      "image/png": "[encoded data removed]",
      "text/plain": [
       "<matplotlib.figure.Figure at 0x1a2109b320>"
      ]
     },
     "metadata": {},
     "output_type": "display_data"
    }
   ],
   "source": [
    "#Import corruption index data\n",
    "corruption_index = pd.read_csv(\"./Data/corruption_index.csv\", low_memory=False, encoding='latin-1')\n",
    "#Corruption Data change indices names  \n",
    "corr_index=corruption_index[['Country','CPI']]\n",
    "#merge with frequency \n",
    "freq_corruption = pd.merge(frequency,corr_index,how='inner')\n",
    "#only countries existing more than 100 times\n",
    "freq_corruption =freq_corruption[freq_corruption['frequency'].apply(lambda x: x>100)]\n",
    "#plot the corruption index vs frquency \n",
    "freq_corruption[['CPI','frequency']].plot(kind='scatter', x='CPI', y='frequency', grid=True,figsize=(14,5))\n",
    "slope, intercept, r_value, p_value, std_err = stats.linregress(freq_corruption.CPI, freq_corruption.frequency)\n",
    "plt.plot(freq_corruption.CPI, intercept + slope*freq_corruption.CPI, 'r', label='fitted line')\n",
    "#correlation and p values \n",
    "print(r_value)\n",
    "print(p_value)"
   ]
  },
  {
   "cell_type": "code",
   "execution_count": 96,
   "metadata": {},
   "outputs": [],
   "source": [
    "#Import peace index dataset\n",
    "peace_index = pd.read_csv(\"./Data/gpi_2008-2016.csv\", low_memory=False)\n",
    "#select the country and the mean of peace index from 2008 to 2016\n",
    "peace_index=peace_index[['Country','peace']]\n",
    "#merge peace with frequency \n",
    "freq_peace = pd.merge(frequency,peace_index,how='inner')\n",
    "#only countries existing more than 100 times\n",
    "freq_peace =freq_peace[freq_peace['frequency'].apply(lambda x: x>100)]\n",
    "#plot the peace index vs frquency \n",
    "freq_peace[['peace','frequency']].plot(kind='scatter', x='peace', y='frequency', grid=True,figsize=(14,5))\n",
    "slope, intercept, r_value, p_value, std_err = stats.linregress(freq_peace.peace, freq_peace.frequency)\n",
    "plt.plot(freq_peace.peace, intercept + slope*freq_peace.peace, 'r', label='fitted line')\n",
    "#correlation and p values \n",
    "print(r_value)\n",
    "print(p_value)"
   ]
  },
  {
   "cell_type": "code",
   "execution_count": 97,
   "metadata": {},
   "outputs": [
    {
     "name": "stdout",
     "output_type": "stream",
     "text": [
      "-0.22149058890194362\n",
      "0.15346133577402182\n"
     ]
    },
    {
     "data": {
      "image/png": "[encoded data removed]",
      "text/plain": [
       "<matplotlib.figure.Figure at 0x1a29d83a58>"
      ]
     },
     "metadata": {},
     "output_type": "display_data"
    }
   ],
   "source": []
  },
  {
   "cell_type": "code",
   "execution_count": null,
   "metadata": {},
   "outputs": [],
   "source": []
  },
  {
   "cell_type": "code",
   "execution_count": null,
   "metadata": {},
   "outputs": [],
   "source": [
    "#Convert Date/Time Values\n",
    "panama_entity['incorporation_date'] = pd.to_datetime(panama_entity['incorporation_date'])\n",
    "panama_entity['inactivation_date'] = pd.to_datetime(panama_entity['inactivation_date'])\n",
    "#panama_entity['struck_off_date'] = pd.to_datetime(panama_entity['struck_off_date'])\n",
    "panama_entity[\"closed_date\"] = pd.to_datetime(panama_entity[\"closed_date\"])"
   ]
  },
  {
   "cell_type": "markdown",
   "metadata": {},
   "source": [
    "# 3. Explore data"
   ]
  },
  {
   "cell_type": "code",
   "execution_count": null,
   "metadata": {},
   "outputs": [],
   "source": [
    "panama_officer.head(20)"
   ]
  },
  {
   "cell_type": "markdown",
   "metadata": {},
   "source": [
    "## 3.1 Panama entity\n",
    "We First explore the entity dataset to undersand it a little bit "
   ]
  },
  {
   "cell_type": "code",
   "execution_count": null,
   "metadata": {},
   "outputs": [],
   "source": [
    "print(panama_entity.shape)\n",
    "panama_entity.head(2)"
   ]
  },
  {
   "cell_type": "markdown",
   "metadata": {},
   "source": [
    "## 3.2 Dataset analysis\n"
   ]
  },
  {
   "cell_type": "markdown",
   "metadata": {},
   "source": [
    "### 3.2.1 General information \n",
    "\n",
    "We start by getting the genral informations abot or dataset such as :\n",
    "\n",
    "- The nationality of the Top 10 present offshore companies: We can see that Switzerlnd and Hongkong are by far the most present firm nationalities. All the present countries are developped ones.\n",
    "\n",
    "- The nationality of the Top 15 present offshore juridiction firms: This a log plot, The british virging islands are the most preset juridiction firms.\n",
    "\n",
    "- The evoluution of number of entities along the years: It all started around 1975 and the nmber increased exponantially. With 2 major crises in 2003 and 2010. \n",
    "\n",
    "- The  Top 10 present relation types:This is also a log plot, The shareholders are the most preset relations .\n"
   ]
  },
  {
   "cell_type": "code",
   "execution_count": null,
   "metadata": {},
   "outputs": [],
   "source": [
    "fig, axes = plt.subplots(nrows=2, ncols=2, figsize=(15,10))\n",
    "panama_entity[\"countries\"].value_counts().head(10).plot.bar(title=\"Top 10 Countries\", ax=axes[0,0])\n",
    "ax=pd.DataFrame(panama_entity['incorporation_date'].dropna().dt.year.astype(int).value_counts()).sort_index().plot.line(title='number of entites evolution',ax= axes[0,1])\n",
    "panama_entity[\"jurisdiction_description\"].value_counts().head(15).plot.bar(log = True, title=\"Top 15 Jurisdiction\", ax = axes[1,0])\n",
    "panama_edges[\"link\"].value_counts().head(10).plot.bar(log=True, title = \"Top 10 Relation Type\", ax = axes[1,1])\n",
    "ax.set_xlabel('Year')\n",
    "ax.set_ylabel('Nmber of entited')\n",
    "plt.tight_layout()\n",
    "plt.show()"
   ]
  },
  {
   "cell_type": "markdown",
   "metadata": {},
   "source": [
    "### 3.2.1 Top 10 related entities"
   ]
  },
  {
   "cell_type": "code",
   "execution_count": null,
   "metadata": {},
   "outputs": [],
   "source": [
    "#Get Top 10 Entities that are in Relation\n",
    "df = panama_edges.groupby('START_ID')['TYPE'].value_counts().to_frame()\n",
    "df.columns = [\"Number of Relations\"]\n",
    "df = df.sort_values(by=[\"Number of Relations\"], ascending = False)\n",
    "node_ids = df.head(10).copy()\n",
    "node_ids.reset_index(inplace=True)\n",
    "names = []\n",
    "relations = []\n",
    "#Search for them in Officers, Intermediares or Entities\n",
    "for i in range(0, 10):\n",
    "    name = \"\"\n",
    "    relations.append(node_ids.loc[i, \"TYPE\"])\n",
    "    ID = node_ids.loc[i, \"START_ID\"]\n",
    "    if ID in panama_entity[\"node_id\"].values:\n",
    "        name = panama_entity[panama_entity[\"node_id\"] == ID][\"name\"]\n",
    "        names.append(name)\n",
    "    elif ID in panama_intermediary[\"node_id\"].values:\n",
    "        name = panama_intermediary[panama_intermediary[\"node_id\"] == ID][\"name\"]\n",
    "        names.append(name)\n",
    "    elif ID in panama_officer[\"node_id\"].values:\n",
    "        name = (panama_officer[panama_officer[\"node_id\"] == ID][\"name\"])\n",
    "        names.append(name)\n",
    "    else:\n",
    "        name = panama_address[panama_address[\"node_id\"] == ID][\"address\"]\n",
    "        names.append(name)\n",
    "\n",
    "node_ids[\"Entity Name\"] = pd.Series(names)\n",
    "node_ids.plot.bar(x = \"Entity Name\", y = \"Number of Relations\", title = \"Top 10 Entities that are in Relation\")\n"
   ]
  },
  {
   "cell_type": "code",
   "execution_count": null,
   "metadata": {},
   "outputs": [],
   "source": [
    "#As we can see most of them are intermediaries.\n",
    "node_ids.head(10) "
   ]
  },
  {
   "cell_type": "code",
   "execution_count": null,
   "metadata": {},
   "outputs": [],
   "source": [
    "#Top 10 Statuses of Entities\n",
    "panama_entity[\"status\"].value_counts().plot.bar(log=True)"
   ]
  },
  {
   "cell_type": "markdown",
   "metadata": {},
   "source": [
    "# Creation of The Graph\n",
    "\n",
    "First we create the full graph. The edges are directed connections, as they give out information about who is shareholder of, intermediate of, director of, etc. Nodes can be any of addresses, entities, intermediates or officers. This is due to the fact that an entity should have a legal address, and then intermediaries or officers can be person, companies, foundations, etc."
   ]
  },
  {
   "cell_type": "code",
   "execution_count": null,
   "metadata": {},
   "outputs": [],
   "source": [
    "# create graph\n",
    "G = nx.DiGraph()\n",
    "\n",
    "for n,row in panama_address.iterrows():\n",
    "    G.add_node(row.node_id, node_type=\"address\", details=row.to_dict())\n",
    "    \n",
    "for n,row in panama_entity.iterrows():\n",
    "    G.add_node(row.node_id, node_type=\"entities\", details=row.to_dict())\n",
    "    \n",
    "for n,row in panama_intermediary.iterrows():\n",
    "    G.add_node(row.node_id, node_type=\"intermediates\", details=row.to_dict())\n",
    "    \n",
    "for n,row in panama_officer.iterrows():\n",
    "    G.add_node(row.node_id, node_type=\"officers\", details=row.to_dict())\n",
    "    \n",
    "for n,row in panama_edges.iterrows():b\n",
    "    G.add_edge(row['START_ID'], row['END_ID'], rel_type=row.TYPE, details=row.to_dict())"
   ]
  },
  {
   "cell_type": "code",
   "execution_count": null,
   "metadata": {},
   "outputs": [],
   "source": [
    "nx.write_adjlist(G,\"pp_graph.adjlist\")"
   ]
  },
  {
   "cell_type": "markdown",
   "metadata": {},
   "source": [
    "### Exploring connections of Fortune 500 Companies with Panama Papers\n",
    "\n",
    "In this subsection we will explore the connections of Fortune 500 Companies with the Panama Papers. "
   ]
  },
  {
   "cell_type": "code",
   "execution_count": null,
   "metadata": {},
   "outputs": [],
   "source": [
    "#Explore Forture 500 companies, if they are somehow connected to offshore companies.\n",
    "fortune_500_comp.head(2)"
   ]
  },
  {
   "cell_type": "code",
   "execution_count": null,
   "metadata": {},
   "outputs": [],
   "source": [
    "fortune_500_names = fortune_500_comp[\"Company Name\"].values\n",
    "fortune_500_names = [x.lower() for x in fortune_500_names]\n",
    "\n",
    "#Check in Entities\n",
    "for name in fortune_500_names:\n",
    "    p = panama_entity[(panama_entity[\"country_codes\"] == \"USA\") & (panama_entity[\"name\"].str.lower().str.contains(name, na=False))][\"name\"]\n",
    "    if not p.empty:\n",
    "        print(\"Fortune 500 Name:\", name)\n",
    "        print(p)\n",
    "\n"
   ]
  },
  {
   "cell_type": "markdown",
   "metadata": {},
   "source": [
    "* It is actually difficult to understand if these companies are somehow correlated or not from the data that we have. But we found that there is an entity under the name TESLA Foundation and MOSAIC INTERNATIONAL INC. registered under USA country code, which maybe correlated to TESLA or MOSAIC, that is why we decided to dig up a little bit on that."
   ]
  },
  {
   "cell_type": "code",
   "execution_count": null,
   "metadata": {},
   "outputs": [],
   "source": [
    "#Tesla Foundation and MOSAIC INTERNATIONAL INC.\n",
    "panama_entity[panama_entity[\"name\"].isin([\"TESLA FOUNDATION\", \"MOSAIC INTERNATIONAL INC.\"])]"
   ]
  },
  {
   "cell_type": "code",
   "execution_count": null,
   "metadata": {},
   "outputs": [],
   "source": [
    "#Unfortunatelly the Entity is not connected to anything.\n",
    "teslaGraph = G.subgraph(nx.shortest_path(G, 10168981))\n",
    "plot_graph(teslaGraph, figsize=(15,12), label_edges=True)"
   ]
  },
  {
   "cell_type": "code",
   "execution_count": null,
   "metadata": {},
   "outputs": [],
   "source": [
    "#Unfortunatelly the Entity is not connected to anything.\n",
    "mosaicGraph = G.subgraph(nx.shortest_path(G, 10065968))\n",
    "plot_graph(mosaicGraph, figsize=(15,12), label_edges=True)"
   ]
  },
  {
   "cell_type": "markdown",
   "metadata": {},
   "source": [
    "### Network of King Salman bin Abdulaziz bin Abdulrahman Al Saud - King of Saudi Arabia\n",
    "In this subsection we will explore the connection of big player name that was found in the panama papers. We will expore the network of King of Saudi Arabia - Salman bin Abdulaziz bin Abdulrahman Al Saud. "
   ]
  },
  {
   "cell_type": "code",
   "execution_count": null,
   "metadata": {},
   "outputs": [],
   "source": [
    "#Explore Network for Tax Evasion Comapnies that are surronded around King Salman bin Abdulaziz bin Abdulrahman Al Saud\n",
    "kingSaudiArabia = \"King Salman bin Abdulaziz bin Abdulrahman Al Saud\"\n",
    "\n",
    "#Check if he actually exists in the data.\n",
    "panama_officer[panama_officer[\"name\"] == kingSaudiArabia]"
   ]
  },
  {
   "cell_type": "code",
   "execution_count": null,
   "metadata": {},
   "outputs": [],
   "source": [
    "#Create a subgraph(connected component, which will shows with what nodes does the king interact) by BFS\n",
    "kingGraph = G.subgraph(nx.shortest_path(G, 15004501))\n",
    "plot_graph(kingGraph, figsize=(15,12), label_edges=True)"
   ]
  },
  {
   "cell_type": "markdown",
   "metadata": {},
   "source": [
    "As we can see the King is connected to a couple of companies all having almost the same name(probably are the same company) which are being officers, the company address is in Luxembourg. these companies are then connected to actual offshore entities. We can see that this SAFASON CORPORATION SPF is connected to various other entties VERSE DEVELOPMENT CORP, CRASSUS LIMITED, PARK PROPERTY LIMITED, CRASSUS LIMITED."
   ]
  },
  {
   "cell_type": "code",
   "execution_count": null,
   "metadata": {},
   "outputs": [],
   "source": [
    "#Expore VERSE DEVELOPENT CORP, \n",
    "listOfEntities = [\"VERSE DEVELOPMENT CORP.\", \"PARK PROPERTY LIMITED\", \"INROW CORPORATION\", \"CRASSUS LIMITED\"] \n",
    "display(panama_entity[panama_entity[\"name\"].isin(listOfEntities)])"
   ]
  },
  {
   "cell_type": "markdown",
   "metadata": {},
   "source": [
    "We can see that Verse Development Corp. was incorporated in 1991 in Panama, under the country Jordan, in fact all of the companies are under country Jordan. All of the entities are a still activate, and they are residing in 2 jurisdictions Panama and British Virgin Islands."
   ]
  },
  {
   "cell_type": "markdown",
   "metadata": {},
   "source": [
    "## Milestone 3\n",
    "\n",
    "For milestone 3 we are going to finish answering the questions we chose to keep. For the correlation between social-economical condition and tax evasion we are going to use additional information, Human Development Index, Global Peace Index and Corruption Perception Index. \n",
    "Next, we are going to improve the visualization of the data by presenting a data story about the correlation between countries and shells. "
   ]
  },
  {
   "cell_type": "markdown",
   "metadata": {},
   "source": [
    "# 4. References\n",
    "\n",
    "[1] https://github.com/Roussaky/ada-EPFL/blob/master/project/project_notebook.ipynb\n",
    "\n",
    "[2] https://github.com/REDeLapp/Panama-Papers-Network-Analysis\n",
    "\n",
    "[3] https://github.com/amaboura/panama-papers-dataset-2016"
   ]
  }
 ],
 "metadata": {
  "kernelspec": {
   "display_name": "Python 3",
   "language": "python",
   "name": "python3"
  },
  "language_info": {
   "codemirror_mode": {
    "name": "ipython",
    "version": 3
   },
   "file_extension": ".py",
   "mimetype": "text/x-python",
   "name": "python",
   "nbconvert_exporter": "python",
   "pygments_lexer": "ipython3",
   "version": "3.6.4"
  }
 },
 "nbformat": 4,
 "nbformat_minor": 2
}
