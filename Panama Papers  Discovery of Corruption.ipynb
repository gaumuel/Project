{
 "cells": [
  {
   "cell_type": "markdown",
   "metadata": {},
   "source": [
    "# Panama Papers: Discovery of Corruption"
   ]
  },
  {
   "cell_type": "markdown",
   "metadata": {},
   "source": [
    "* Students: Ilija Gjorgjiev, Gauthier Mueller, Mahmoud Zgolli\n",
    "* Dataset: Panama Papers"
   ]
  },
  {
   "cell_type": "code",
   "execution_count": 1,
   "metadata": {},
   "outputs": [
    {
     "data": {
      "application/javascript": [
       "$(\"head\").append($(\"<link/>\").attr({\n",
       "  rel:  \"stylesheet\",\n",
       "  type: \"text/css\",\n",
       "  href: \"https://cdnjs.cloudflare.com/ajax/libs/vis/4.8.2/vis.css\"\n",
       "}));\n",
       "require.config({     paths: {         vis: '//cdnjs.cloudflare.com/ajax/libs/vis/4.8.2/vis.min'     } }); require(['vis'], function(vis) {  window.vis = vis; }); "
      ],
      "text/plain": [
       "<IPython.core.display.Javascript object>"
      ]
     },
     "metadata": {},
     "output_type": "display_data"
    }
   ],
   "source": [
    "import pandas as pd\n",
    "import numpy as np\n",
    "import matplotlib.pyplot as plt\n",
    "import seaborn as sns\n",
    "from scipy import stats\n",
    "from py2neo import Graph, Node, Relationship\n",
    "import neo4jupyter\n",
    "import networkx as nx\n",
    "\n",
    "%matplotlib inline\n",
    "import matplotlib as mpl\n",
    "mpl.style.use(\"ggplot\")\n",
    "\n",
    "from pputils import *\n",
    "\n",
    "neo4jupyter.init_notebook_mode()\n",
    "\n",
    "%matplotlib inline\n"
   ]
  },
  {
   "cell_type": "markdown",
   "metadata": {},
   "source": [
    "# 2. Load and convert Data"
   ]
  },
  {
   "cell_type": "markdown",
   "metadata": {},
   "source": [
    "The downloaded dataset file has 5 csv files.\n",
    "\n",
    "1/ Entity: Offshore company created in a low-tax by an offshore jurisdiction agent.\n",
    "\n",
    "2/ Officer: Person or company who plays a role in an offshore entity.\n",
    "\n",
    "3/ Edges : \n",
    "\n",
    "4/ Address: A contact postal address.\n",
    "\n",
    "5/ Intermediary: Intermediar between someone looking for an offshore corporation and an offshore service provider."
   ]
  },
  {
   "cell_type": "code",
   "execution_count": 2,
   "metadata": {},
   "outputs": [],
   "source": [
    "#Load Data\n",
    "panama_entity = pd.read_csv('./Data/panama_papers/panama_papers.nodes.entity.csv', low_memory=False)\n",
    "panama_officer = pd.read_csv('./Data/panama_papers/panama_papers.nodes.officer.csv', low_memory=False)\n",
    "panama_edges = pd.read_csv(\"./Data/panama_papers/panama_papers.edges.csv\", low_memory=False)\n",
    "panama_address = pd.read_csv(\"./Data/panama_papers/panama_papers.nodes.address.csv\", low_memory=False)\n",
    "panama_intermediary = pd.read_csv(\"./Data/panama_papers/panama_papers.nodes.intermediary.csv\", low_memory=False)\n",
    "fortune_500_comp = pd.read_csv(\"./Data/fortune_500_companies_US.csv\", low_memory=False, encoding='latin-1')"
   ]
  },
  {
   "cell_type": "code",
   "execution_count": 4,
   "metadata": {},
   "outputs": [
    {
     "name": "stdout",
     "output_type": "stream",
     "text": [
      "http://api.worldbank.org/indicator/SI.POV.GINI?format=csv\n",
      "Saved archive CSV file.\n",
      "                                          Country Name Country Code  1960  \\\n",
      "0                                           Arab World          ARB   NaN   \n",
      "1                               Caribbean small states          CSS   NaN   \n",
      "2                       Central Europe and the Baltics          CEB   NaN   \n",
      "3                           Early-demographic dividend          EAR   NaN   \n",
      "4                                  East Asia & Pacific          EAS   NaN   \n",
      "5          East Asia & Pacific (excluding high income)          EAP   NaN   \n",
      "6           East Asia & Pacific (IDA & IBRD countries)          TEA   NaN   \n",
      "7                                            Euro area          EMU   NaN   \n",
      "8                                Europe & Central Asia          ECS   NaN   \n",
      "9        Europe & Central Asia (excluding high income)          ECA   NaN   \n",
      "10        Europe & Central Asia (IDA & IBRD countries)          TEC   NaN   \n",
      "11                                      European Union          EUU   NaN   \n",
      "12            Fragile and conflict affected situations          FCS   NaN   \n",
      "13              Heavily indebted poor countries (HIPC)          HPC   NaN   \n",
      "14                                         High income          HIC   NaN   \n",
      "15                                           IBRD only          IBD   NaN   \n",
      "16                                    IDA & IBRD total          IBT   NaN   \n",
      "17                                           IDA blend          IDB   NaN   \n",
      "18                                            IDA only          IDX   NaN   \n",
      "19                                           IDA total          IDA   NaN   \n",
      "20                           Late-demographic dividend          LTE   NaN   \n",
      "21                           Latin America & Caribbean          LCN   NaN   \n",
      "22   Latin America & Caribbean (excluding high income)          LAC   NaN   \n",
      "23   Latin America & the Caribbean (IDA & IBRD coun...          TLA   NaN   \n",
      "24        Least developed countries: UN classification          LDC   NaN   \n",
      "25                                 Low & middle income          LMY   NaN   \n",
      "26                                          Low income          LIC   NaN   \n",
      "27                                 Lower middle income          LMC   NaN   \n",
      "28                          Middle East & North Africa          MEA   NaN   \n",
      "29   Middle East & North Africa (excluding high inc...          MNA   NaN   \n",
      "..                                                 ...          ...   ...   \n",
      "234                                             Sweden          SWE   NaN   \n",
      "235                                        Switzerland          CHE   NaN   \n",
      "236                               Syrian Arab Republic          SYR   NaN   \n",
      "237                                         Tajikistan          TJK   NaN   \n",
      "238                                           Tanzania          TZA   NaN   \n",
      "239                                           Thailand          THA   NaN   \n",
      "240                                        Timor-Leste          TLS   NaN   \n",
      "241                                               Togo          TGO   NaN   \n",
      "242                                              Tonga          TON   NaN   \n",
      "243                                Trinidad and Tobago          TTO   NaN   \n",
      "244                                            Tunisia          TUN   NaN   \n",
      "245                                             Turkey          TUR   NaN   \n",
      "246                                       Turkmenistan          TKM   NaN   \n",
      "247                           Turks and Caicos Islands          TCA   NaN   \n",
      "248                                             Tuvalu          TUV   NaN   \n",
      "249                                             Uganda          UGA   NaN   \n",
      "250                                            Ukraine          UKR   NaN   \n",
      "251                               United Arab Emirates          ARE   NaN   \n",
      "252                                     United Kingdom          GBR   NaN   \n",
      "253                                      United States          USA   NaN   \n",
      "254                                            Uruguay          URY   NaN   \n",
      "255                                         Uzbekistan          UZB   NaN   \n",
      "256                                            Vanuatu          VUT   NaN   \n",
      "257                                      Venezuela, RB          VEN   NaN   \n",
      "258                                            Vietnam          VNM   NaN   \n",
      "259                              Virgin Islands (U.S.)          VIR   NaN   \n",
      "260                                 West Bank and Gaza          PSE   NaN   \n",
      "261                                        Yemen, Rep.          YEM   NaN   \n",
      "262                                             Zambia          ZMB   NaN   \n",
      "263                                           Zimbabwe          ZWE   NaN   \n",
      "\n",
      "     1961  1962  1963  1964  1965  1966  1967     ...       2009  2010  2011  \\\n",
      "0     NaN   NaN   NaN   NaN   NaN   NaN   NaN     ...        NaN   NaN   NaN   \n",
      "1     NaN   NaN   NaN   NaN   NaN   NaN   NaN     ...        NaN   NaN   NaN   \n",
      "2     NaN   NaN   NaN   NaN   NaN   NaN   NaN     ...        NaN   NaN   NaN   \n",
      "3     NaN   NaN   NaN   NaN   NaN   NaN   NaN     ...        NaN   NaN   NaN   \n",
      "4     NaN   NaN   NaN   NaN   NaN   NaN   NaN     ...        NaN   NaN   NaN   \n",
      "5     NaN   NaN   NaN   NaN   NaN   NaN   NaN     ...        NaN   NaN   NaN   \n",
      "6     NaN   NaN   NaN   NaN   NaN   NaN   NaN     ...        NaN   NaN   NaN   \n",
      "7     NaN   NaN   NaN   NaN   NaN   NaN   NaN     ...        NaN   NaN   NaN   \n",
      "8     NaN   NaN   NaN   NaN   NaN   NaN   NaN     ...        NaN   NaN   NaN   \n",
      "9     NaN   NaN   NaN   NaN   NaN   NaN   NaN     ...        NaN   NaN   NaN   \n",
      "10    NaN   NaN   NaN   NaN   NaN   NaN   NaN     ...        NaN   NaN   NaN   \n",
      "11    NaN   NaN   NaN   NaN   NaN   NaN   NaN     ...        NaN   NaN   NaN   \n",
      "12    NaN   NaN   NaN   NaN   NaN   NaN   NaN     ...        NaN   NaN   NaN   \n",
      "13    NaN   NaN   NaN   NaN   NaN   NaN   NaN     ...        NaN   NaN   NaN   \n",
      "14    NaN   NaN   NaN   NaN   NaN   NaN   NaN     ...        NaN   NaN   NaN   \n",
      "15    NaN   NaN   NaN   NaN   NaN   NaN   NaN     ...        NaN   NaN   NaN   \n",
      "16    NaN   NaN   NaN   NaN   NaN   NaN   NaN     ...        NaN   NaN   NaN   \n",
      "17    NaN   NaN   NaN   NaN   NaN   NaN   NaN     ...        NaN   NaN   NaN   \n",
      "18    NaN   NaN   NaN   NaN   NaN   NaN   NaN     ...        NaN   NaN   NaN   \n",
      "19    NaN   NaN   NaN   NaN   NaN   NaN   NaN     ...        NaN   NaN   NaN   \n",
      "20    NaN   NaN   NaN   NaN   NaN   NaN   NaN     ...        NaN   NaN   NaN   \n",
      "21    NaN   NaN   NaN   NaN   NaN   NaN   NaN     ...        NaN   NaN   NaN   \n",
      "22    NaN   NaN   NaN   NaN   NaN   NaN   NaN     ...        NaN   NaN   NaN   \n",
      "23    NaN   NaN   NaN   NaN   NaN   NaN   NaN     ...        NaN   NaN   NaN   \n",
      "24    NaN   NaN   NaN   NaN   NaN   NaN   NaN     ...        NaN   NaN   NaN   \n",
      "25    NaN   NaN   NaN   NaN   NaN   NaN   NaN     ...        NaN   NaN   NaN   \n",
      "26    NaN   NaN   NaN   NaN   NaN   NaN   NaN     ...        NaN   NaN   NaN   \n",
      "27    NaN   NaN   NaN   NaN   NaN   NaN   NaN     ...        NaN   NaN   NaN   \n",
      "28    NaN   NaN   NaN   NaN   NaN   NaN   NaN     ...        NaN   NaN   NaN   \n",
      "29    NaN   NaN   NaN   NaN   NaN   NaN   NaN     ...        NaN   NaN   NaN   \n",
      "..    ...   ...   ...   ...   ...   ...   ...     ...        ...   ...   ...   \n",
      "234   NaN   NaN   NaN   NaN   NaN   NaN   NaN     ...       27.3  27.7  27.6   \n",
      "235   NaN   NaN   NaN   NaN   NaN   NaN   NaN     ...       32.9  32.6  31.7   \n",
      "236   NaN   NaN   NaN   NaN   NaN   NaN   NaN     ...        NaN   NaN   NaN   \n",
      "237   NaN   NaN   NaN   NaN   NaN   NaN   NaN     ...       30.8   NaN   NaN   \n",
      "238   NaN   NaN   NaN   NaN   NaN   NaN   NaN     ...        NaN   NaN  37.8   \n",
      "239   NaN   NaN   NaN   NaN   NaN   NaN   NaN     ...       39.6  39.4  37.5   \n",
      "240   NaN   NaN   NaN   NaN   NaN   NaN   NaN     ...        NaN   NaN   NaN   \n",
      "241   NaN   NaN   NaN   NaN   NaN   NaN   NaN     ...        NaN   NaN  46.0   \n",
      "242   NaN   NaN   NaN   NaN   NaN   NaN   NaN     ...       37.5   NaN   NaN   \n",
      "243   NaN   NaN   NaN   NaN   NaN   NaN   NaN     ...        NaN   NaN   NaN   \n",
      "244   NaN   NaN   NaN   NaN   NaN   NaN   NaN     ...        NaN  35.8   NaN   \n",
      "245   NaN   NaN   NaN   NaN   NaN   NaN   NaN     ...       39.0  38.8  40.0   \n",
      "246   NaN   NaN   NaN   NaN   NaN   NaN   NaN     ...        NaN   NaN   NaN   \n",
      "247   NaN   NaN   NaN   NaN   NaN   NaN   NaN     ...        NaN   NaN   NaN   \n",
      "248   NaN   NaN   NaN   NaN   NaN   NaN   NaN     ...        NaN  39.1   NaN   \n",
      "249   NaN   NaN   NaN   NaN   NaN   NaN   NaN     ...       44.2   NaN   NaN   \n",
      "250   NaN   NaN   NaN   NaN   NaN   NaN   NaN     ...       25.3  24.8  24.6   \n",
      "251   NaN   NaN   NaN   NaN   NaN   NaN   NaN     ...        NaN   NaN   NaN   \n",
      "252   NaN   NaN   NaN   NaN   NaN   NaN   NaN     ...       34.3  34.4  33.2   \n",
      "253   NaN   NaN   NaN   NaN   NaN   NaN   NaN     ...        NaN  40.4   NaN   \n",
      "254   NaN   NaN   NaN   NaN   NaN   NaN   NaN     ...       45.6  44.5  42.2   \n",
      "255   NaN   NaN   NaN   NaN   NaN   NaN   NaN     ...        NaN   NaN   NaN   \n",
      "256   NaN   NaN   NaN   NaN   NaN   NaN   NaN     ...        NaN  37.6   NaN   \n",
      "257   NaN   NaN   NaN   NaN   NaN   NaN   NaN     ...        NaN   NaN   NaN   \n",
      "258   NaN   NaN   NaN   NaN   NaN   NaN   NaN     ...        NaN  39.3   NaN   \n",
      "259   NaN   NaN   NaN   NaN   NaN   NaN   NaN     ...        NaN   NaN   NaN   \n",
      "260   NaN   NaN   NaN   NaN   NaN   NaN   NaN     ...       34.5  35.3  34.4   \n",
      "261   NaN   NaN   NaN   NaN   NaN   NaN   NaN     ...        NaN   NaN   NaN   \n",
      "262   NaN   NaN   NaN   NaN   NaN   NaN   NaN     ...        NaN  55.6   NaN   \n",
      "263   NaN   NaN   NaN   NaN   NaN   NaN   NaN     ...        NaN   NaN  43.2   \n",
      "\n",
      "     2012  2013  2014  2015  2016  2017  Unnamed: 60  \n",
      "0     NaN   NaN   NaN   NaN   NaN   NaN          NaN  \n",
      "1     NaN   NaN   NaN   NaN   NaN   NaN          NaN  \n",
      "2     NaN   NaN   NaN   NaN   NaN   NaN          NaN  \n",
      "3     NaN   NaN   NaN   NaN   NaN   NaN          NaN  \n",
      "4     NaN   NaN   NaN   NaN   NaN   NaN          NaN  \n",
      "5     NaN   NaN   NaN   NaN   NaN   NaN          NaN  \n",
      "6     NaN   NaN   NaN   NaN   NaN   NaN          NaN  \n",
      "7     NaN   NaN   NaN   NaN   NaN   NaN          NaN  \n",
      "8     NaN   NaN   NaN   NaN   NaN   NaN          NaN  \n",
      "9     NaN   NaN   NaN   NaN   NaN   NaN          NaN  \n",
      "10    NaN   NaN   NaN   NaN   NaN   NaN          NaN  \n",
      "11    NaN   NaN   NaN   NaN   NaN   NaN          NaN  \n",
      "12    NaN   NaN   NaN   NaN   NaN   NaN          NaN  \n",
      "13    NaN   NaN   NaN   NaN   NaN   NaN          NaN  \n",
      "14    NaN   NaN   NaN   NaN   NaN   NaN          NaN  \n",
      "15    NaN   NaN   NaN   NaN   NaN   NaN          NaN  \n",
      "16    NaN   NaN   NaN   NaN   NaN   NaN          NaN  \n",
      "17    NaN   NaN   NaN   NaN   NaN   NaN          NaN  \n",
      "18    NaN   NaN   NaN   NaN   NaN   NaN          NaN  \n",
      "19    NaN   NaN   NaN   NaN   NaN   NaN          NaN  \n",
      "20    NaN   NaN   NaN   NaN   NaN   NaN          NaN  \n",
      "21    NaN   NaN   NaN   NaN   NaN   NaN          NaN  \n",
      "22    NaN   NaN   NaN   NaN   NaN   NaN          NaN  \n",
      "23    NaN   NaN   NaN   NaN   NaN   NaN          NaN  \n",
      "24    NaN   NaN   NaN   NaN   NaN   NaN          NaN  \n",
      "25    NaN   NaN   NaN   NaN   NaN   NaN          NaN  \n",
      "26    NaN   NaN   NaN   NaN   NaN   NaN          NaN  \n",
      "27    NaN   NaN   NaN   NaN   NaN   NaN          NaN  \n",
      "28    NaN   NaN   NaN   NaN   NaN   NaN          NaN  \n",
      "29    NaN   NaN   NaN   NaN   NaN   NaN          NaN  \n",
      "..    ...   ...   ...   ...   ...   ...          ...  \n",
      "234  27.6  28.8  28.4  29.2   NaN   NaN          NaN  \n",
      "235  31.6  32.5  32.5  32.3   NaN   NaN          NaN  \n",
      "236   NaN   NaN   NaN   NaN   NaN   NaN          NaN  \n",
      "237   NaN   NaN   NaN  34.0   NaN   NaN          NaN  \n",
      "238   NaN   NaN   NaN   NaN   NaN   NaN          NaN  \n",
      "239  39.3  37.8  37.0  36.0   NaN   NaN          NaN  \n",
      "240   NaN   NaN  28.7   NaN   NaN   NaN          NaN  \n",
      "241   NaN   NaN   NaN  43.1   NaN   NaN          NaN  \n",
      "242   NaN   NaN   NaN   NaN   NaN   NaN          NaN  \n",
      "243   NaN   NaN   NaN   NaN   NaN   NaN          NaN  \n",
      "244   NaN   NaN   NaN   NaN   NaN   NaN          NaN  \n",
      "245  40.2  40.2  41.2  42.9  41.9   NaN          NaN  \n",
      "246   NaN   NaN   NaN   NaN   NaN   NaN          NaN  \n",
      "247   NaN   NaN   NaN   NaN   NaN   NaN          NaN  \n",
      "248   NaN   NaN   NaN   NaN   NaN   NaN          NaN  \n",
      "249  41.0   NaN   NaN   NaN  42.8   NaN          NaN  \n",
      "250  24.7  24.6  24.0  25.5  25.0   NaN          NaN  \n",
      "251   NaN   NaN   NaN   NaN   NaN   NaN          NaN  \n",
      "252  32.3  33.2  34.0  33.2   NaN   NaN          NaN  \n",
      "253   NaN  41.0   NaN   NaN  41.5   NaN          NaN  \n",
      "254  39.9  40.5  40.1  40.2  39.7   NaN          NaN  \n",
      "255   NaN   NaN   NaN   NaN   NaN   NaN          NaN  \n",
      "256   NaN   NaN   NaN   NaN   NaN   NaN          NaN  \n",
      "257   NaN   NaN   NaN   NaN   NaN   NaN          NaN  \n",
      "258  35.6   NaN  34.8   NaN  35.3   NaN          NaN  \n",
      "259   NaN   NaN   NaN   NaN   NaN   NaN          NaN  \n",
      "260   NaN   NaN   NaN   NaN  33.7   NaN          NaN  \n",
      "261   NaN   NaN  36.7   NaN   NaN   NaN          NaN  \n",
      "262   NaN   NaN   NaN  57.1   NaN   NaN          NaN  \n",
      "263   NaN   NaN   NaN   NaN   NaN   NaN          NaN  \n",
      "\n",
      "[264 rows x 61 columns]\n",
      "File has been saved and it is ready for data packaging.\n"
     ]
    }
   ],
   "source": [
    "import csv, os, sys\n",
    "import numpy as np\n",
    "import pandas as pd\n",
    "\n",
    "# Building query to fetch data from API\n",
    "apiBase = \"http://api.worldbank.org/indicator/\"\n",
    "apiIndicator = \"SI.POV.GINI\"    # This can be changed to any other indicator\n",
    "FILE_NAME = 'gini-index.csv'\n",
    "source = apiBase+apiIndicator+\"?format=csv\"\n",
    "print(source)\n",
    "\n",
    "giniIndex = pd.read_csv(source)\n",
    "giniIndex.to_csv('./Data/gini-index.csv', sep=\",\", index=False)\n",
    "print(\"Saved archive CSV file.\")\n",
    "print(giniIndex)\n",
    "\n",
    "# Processing the data\n",
    "df = pd.read_csv('./Data/gini-index.csv')      # Reading the source csv\n",
    "\"\"\"\n",
    "Python is printing \"Country Name\" with quotes in data frame and does not\n",
    "work for the remaining code\n",
    "\"\"\"\n",
    "df.columns.values[0] = 'Country Name'\n",
    "\n",
    "df = pd.melt(df, id_vars=['Country Name', 'Country Code'], var_name=\"Year\", value_name=\"Value\")     # Unpivoting\n",
    "df = df.sort_values(by=['Country Name', 'Year'], ascending=[True, True])  # Sorting by country\n",
    "\n",
    "df.dropna().to_csv('./Data/gini-index1.csv', sep=\",\", index=False)   # Saving CSV\n",
    "print (\"File has been saved and it is ready for data packaging.\")\n",
    "\n",
    "\n"
   ]
  },
  {
   "cell_type": "code",
   "execution_count": 5,
   "metadata": {},
   "outputs": [
    {
     "data": {
      "text/html": [
       "<div>\n",
       "<style scoped>\n",
       "    .dataframe tbody tr th:only-of-type {\n",
       "        vertical-align: middle;\n",
       "    }\n",
       "\n",
       "    .dataframe tbody tr th {\n",
       "        vertical-align: top;\n",
       "    }\n",
       "\n",
       "    .dataframe thead th {\n",
       "        text-align: right;\n",
       "    }\n",
       "</style>\n",
       "<table border=\"1\" class=\"dataframe\">\n",
       "  <thead>\n",
       "    <tr style=\"text-align: right;\">\n",
       "      <th></th>\n",
       "      <th>Country</th>\n",
       "      <th>Gini</th>\n",
       "    </tr>\n",
       "  </thead>\n",
       "  <tbody>\n",
       "    <tr>\n",
       "      <th>48</th>\n",
       "      <td>Albania</td>\n",
       "      <td>29.660000</td>\n",
       "    </tr>\n",
       "    <tr>\n",
       "      <th>49</th>\n",
       "      <td>Algeria</td>\n",
       "      <td>34.366667</td>\n",
       "    </tr>\n",
       "    <tr>\n",
       "      <th>52</th>\n",
       "      <td>Angola</td>\n",
       "      <td>47.350000</td>\n",
       "    </tr>\n",
       "    <tr>\n",
       "      <th>54</th>\n",
       "      <td>Argentina</td>\n",
       "      <td>46.339286</td>\n",
       "    </tr>\n",
       "    <tr>\n",
       "      <th>55</th>\n",
       "      <td>Armenia</td>\n",
       "      <td>32.176471</td>\n",
       "    </tr>\n",
       "    <tr>\n",
       "      <th>57</th>\n",
       "      <td>Australia</td>\n",
       "      <td>33.337500</td>\n",
       "    </tr>\n",
       "    <tr>\n",
       "      <th>58</th>\n",
       "      <td>Austria</td>\n",
       "      <td>30.269231</td>\n",
       "    </tr>\n",
       "    <tr>\n",
       "      <th>59</th>\n",
       "      <td>Azerbaijan</td>\n",
       "      <td>23.366667</td>\n",
       "    </tr>\n",
       "    <tr>\n",
       "      <th>62</th>\n",
       "      <td>Bangladesh</td>\n",
       "      <td>30.355556</td>\n",
       "    </tr>\n",
       "    <tr>\n",
       "      <th>64</th>\n",
       "      <td>Belarus</td>\n",
       "      <td>28.521053</td>\n",
       "    </tr>\n",
       "    <tr>\n",
       "      <th>65</th>\n",
       "      <td>Belgium</td>\n",
       "      <td>28.430769</td>\n",
       "    </tr>\n",
       "    <tr>\n",
       "      <th>66</th>\n",
       "      <td>Belize</td>\n",
       "      <td>57.733333</td>\n",
       "    </tr>\n",
       "    <tr>\n",
       "      <th>67</th>\n",
       "      <td>Benin</td>\n",
       "      <td>43.266667</td>\n",
       "    </tr>\n",
       "    <tr>\n",
       "      <th>69</th>\n",
       "      <td>Bhutan</td>\n",
       "      <td>38.800000</td>\n",
       "    </tr>\n",
       "    <tr>\n",
       "      <th>70</th>\n",
       "      <td>Bolivia</td>\n",
       "      <td>52.261111</td>\n",
       "    </tr>\n",
       "    <tr>\n",
       "      <th>71</th>\n",
       "      <td>Bosnia and Herzegovina</td>\n",
       "      <td>32.560000</td>\n",
       "    </tr>\n",
       "    <tr>\n",
       "      <th>72</th>\n",
       "      <td>Botswana</td>\n",
       "      <td>60.050000</td>\n",
       "    </tr>\n",
       "    <tr>\n",
       "      <th>73</th>\n",
       "      <td>Brazil</td>\n",
       "      <td>57.103226</td>\n",
       "    </tr>\n",
       "    <tr>\n",
       "      <th>76</th>\n",
       "      <td>Bulgaria</td>\n",
       "      <td>34.990000</td>\n",
       "    </tr>\n",
       "    <tr>\n",
       "      <th>77</th>\n",
       "      <td>Burkina Faso</td>\n",
       "      <td>43.280000</td>\n",
       "    </tr>\n",
       "    <tr>\n",
       "      <th>78</th>\n",
       "      <td>Burundi</td>\n",
       "      <td>36.900000</td>\n",
       "    </tr>\n",
       "    <tr>\n",
       "      <th>79</th>\n",
       "      <td>Cabo Verde</td>\n",
       "      <td>49.850000</td>\n",
       "    </tr>\n",
       "    <tr>\n",
       "      <th>81</th>\n",
       "      <td>Cameroon</td>\n",
       "      <td>43.975000</td>\n",
       "    </tr>\n",
       "    <tr>\n",
       "      <th>82</th>\n",
       "      <td>Canada</td>\n",
       "      <td>32.672727</td>\n",
       "    </tr>\n",
       "    <tr>\n",
       "      <th>84</th>\n",
       "      <td>Central African Republic</td>\n",
       "      <td>53.700000</td>\n",
       "    </tr>\n",
       "    <tr>\n",
       "      <th>85</th>\n",
       "      <td>Chad</td>\n",
       "      <td>41.550000</td>\n",
       "    </tr>\n",
       "    <tr>\n",
       "      <th>87</th>\n",
       "      <td>Chile</td>\n",
       "      <td>52.238462</td>\n",
       "    </tr>\n",
       "    <tr>\n",
       "      <th>88</th>\n",
       "      <td>China</td>\n",
       "      <td>42.500000</td>\n",
       "    </tr>\n",
       "    <tr>\n",
       "      <th>89</th>\n",
       "      <td>Colombia</td>\n",
       "      <td>54.416667</td>\n",
       "    </tr>\n",
       "    <tr>\n",
       "      <th>90</th>\n",
       "      <td>Comoros</td>\n",
       "      <td>50.600000</td>\n",
       "    </tr>\n",
       "    <tr>\n",
       "      <th>...</th>\n",
       "      <td>...</td>\n",
       "      <td>...</td>\n",
       "    </tr>\n",
       "    <tr>\n",
       "      <th>229</th>\n",
       "      <td>St. Lucia</td>\n",
       "      <td>42.600000</td>\n",
       "    </tr>\n",
       "    <tr>\n",
       "      <th>232</th>\n",
       "      <td>Sudan</td>\n",
       "      <td>35.400000</td>\n",
       "    </tr>\n",
       "    <tr>\n",
       "      <th>233</th>\n",
       "      <td>Suriname</td>\n",
       "      <td>57.600000</td>\n",
       "    </tr>\n",
       "    <tr>\n",
       "      <th>234</th>\n",
       "      <td>Sweden</td>\n",
       "      <td>27.415385</td>\n",
       "    </tr>\n",
       "    <tr>\n",
       "      <th>235</th>\n",
       "      <td>Switzerland</td>\n",
       "      <td>32.810000</td>\n",
       "    </tr>\n",
       "    <tr>\n",
       "      <th>236</th>\n",
       "      <td>Syrian Arab Republic</td>\n",
       "      <td>35.800000</td>\n",
       "    </tr>\n",
       "    <tr>\n",
       "      <th>237</th>\n",
       "      <td>Tajikistan</td>\n",
       "      <td>32.133333</td>\n",
       "    </tr>\n",
       "    <tr>\n",
       "      <th>238</th>\n",
       "      <td>Tanzania</td>\n",
       "      <td>37.675000</td>\n",
       "    </tr>\n",
       "    <tr>\n",
       "      <th>239</th>\n",
       "      <td>Thailand</td>\n",
       "      <td>41.376190</td>\n",
       "    </tr>\n",
       "    <tr>\n",
       "      <th>240</th>\n",
       "      <td>Timor-Leste</td>\n",
       "      <td>30.800000</td>\n",
       "    </tr>\n",
       "    <tr>\n",
       "      <th>241</th>\n",
       "      <td>Togo</td>\n",
       "      <td>43.766667</td>\n",
       "    </tr>\n",
       "    <tr>\n",
       "      <th>242</th>\n",
       "      <td>Tonga</td>\n",
       "      <td>37.600000</td>\n",
       "    </tr>\n",
       "    <tr>\n",
       "      <th>243</th>\n",
       "      <td>Trinidad and Tobago</td>\n",
       "      <td>41.450000</td>\n",
       "    </tr>\n",
       "    <tr>\n",
       "      <th>244</th>\n",
       "      <td>Tunisia</td>\n",
       "      <td>39.933333</td>\n",
       "    </tr>\n",
       "    <tr>\n",
       "      <th>245</th>\n",
       "      <td>Turkey</td>\n",
       "      <td>40.794118</td>\n",
       "    </tr>\n",
       "    <tr>\n",
       "      <th>246</th>\n",
       "      <td>Turkmenistan</td>\n",
       "      <td>40.800000</td>\n",
       "    </tr>\n",
       "    <tr>\n",
       "      <th>248</th>\n",
       "      <td>Tuvalu</td>\n",
       "      <td>39.100000</td>\n",
       "    </tr>\n",
       "    <tr>\n",
       "      <th>249</th>\n",
       "      <td>Uganda</td>\n",
       "      <td>42.655556</td>\n",
       "    </tr>\n",
       "    <tr>\n",
       "      <th>250</th>\n",
       "      <td>Ukraine</td>\n",
       "      <td>27.926316</td>\n",
       "    </tr>\n",
       "    <tr>\n",
       "      <th>252</th>\n",
       "      <td>United Kingdom</td>\n",
       "      <td>34.108333</td>\n",
       "    </tr>\n",
       "    <tr>\n",
       "      <th>253</th>\n",
       "      <td>United States</td>\n",
       "      <td>39.654545</td>\n",
       "    </tr>\n",
       "    <tr>\n",
       "      <th>254</th>\n",
       "      <td>Uruguay</td>\n",
       "      <td>42.776923</td>\n",
       "    </tr>\n",
       "    <tr>\n",
       "      <th>255</th>\n",
       "      <td>Uzbekistan</td>\n",
       "      <td>37.275000</td>\n",
       "    </tr>\n",
       "    <tr>\n",
       "      <th>256</th>\n",
       "      <td>Vanuatu</td>\n",
       "      <td>37.600000</td>\n",
       "    </tr>\n",
       "    <tr>\n",
       "      <th>257</th>\n",
       "      <td>Venezuela, RB</td>\n",
       "      <td>49.307692</td>\n",
       "    </tr>\n",
       "    <tr>\n",
       "      <th>258</th>\n",
       "      <td>Vietnam</td>\n",
       "      <td>36.130000</td>\n",
       "    </tr>\n",
       "    <tr>\n",
       "      <th>260</th>\n",
       "      <td>West Bank and Gaza</td>\n",
       "      <td>34.525000</td>\n",
       "    </tr>\n",
       "    <tr>\n",
       "      <th>261</th>\n",
       "      <td>Yemen, Rep.</td>\n",
       "      <td>35.466667</td>\n",
       "    </tr>\n",
       "    <tr>\n",
       "      <th>262</th>\n",
       "      <td>Zambia</td>\n",
       "      <td>52.688889</td>\n",
       "    </tr>\n",
       "    <tr>\n",
       "      <th>263</th>\n",
       "      <td>Zimbabwe</td>\n",
       "      <td>43.200000</td>\n",
       "    </tr>\n",
       "  </tbody>\n",
       "</table>\n",
       "<p>161 rows × 2 columns</p>\n",
       "</div>"
      ],
      "text/plain": [
       "                      Country       Gini\n",
       "48                    Albania  29.660000\n",
       "49                    Algeria  34.366667\n",
       "52                     Angola  47.350000\n",
       "54                  Argentina  46.339286\n",
       "55                    Armenia  32.176471\n",
       "57                  Australia  33.337500\n",
       "58                    Austria  30.269231\n",
       "59                 Azerbaijan  23.366667\n",
       "62                 Bangladesh  30.355556\n",
       "64                    Belarus  28.521053\n",
       "65                    Belgium  28.430769\n",
       "66                     Belize  57.733333\n",
       "67                      Benin  43.266667\n",
       "69                     Bhutan  38.800000\n",
       "70                    Bolivia  52.261111\n",
       "71     Bosnia and Herzegovina  32.560000\n",
       "72                   Botswana  60.050000\n",
       "73                     Brazil  57.103226\n",
       "76                   Bulgaria  34.990000\n",
       "77               Burkina Faso  43.280000\n",
       "78                    Burundi  36.900000\n",
       "79                 Cabo Verde  49.850000\n",
       "81                   Cameroon  43.975000\n",
       "82                     Canada  32.672727\n",
       "84   Central African Republic  53.700000\n",
       "85                       Chad  41.550000\n",
       "87                      Chile  52.238462\n",
       "88                      China  42.500000\n",
       "89                   Colombia  54.416667\n",
       "90                    Comoros  50.600000\n",
       "..                        ...        ...\n",
       "229                 St. Lucia  42.600000\n",
       "232                     Sudan  35.400000\n",
       "233                  Suriname  57.600000\n",
       "234                    Sweden  27.415385\n",
       "235               Switzerland  32.810000\n",
       "236      Syrian Arab Republic  35.800000\n",
       "237                Tajikistan  32.133333\n",
       "238                  Tanzania  37.675000\n",
       "239                  Thailand  41.376190\n",
       "240               Timor-Leste  30.800000\n",
       "241                      Togo  43.766667\n",
       "242                     Tonga  37.600000\n",
       "243       Trinidad and Tobago  41.450000\n",
       "244                   Tunisia  39.933333\n",
       "245                    Turkey  40.794118\n",
       "246              Turkmenistan  40.800000\n",
       "248                    Tuvalu  39.100000\n",
       "249                    Uganda  42.655556\n",
       "250                   Ukraine  27.926316\n",
       "252            United Kingdom  34.108333\n",
       "253             United States  39.654545\n",
       "254                   Uruguay  42.776923\n",
       "255                Uzbekistan  37.275000\n",
       "256                   Vanuatu  37.600000\n",
       "257             Venezuela, RB  49.307692\n",
       "258                   Vietnam  36.130000\n",
       "260        West Bank and Gaza  34.525000\n",
       "261               Yemen, Rep.  35.466667\n",
       "262                    Zambia  52.688889\n",
       "263                  Zimbabwe  43.200000\n",
       "\n",
       "[161 rows x 2 columns]"
      ]
     },
     "execution_count": 5,
     "metadata": {},
     "output_type": "execute_result"
    }
   ],
   "source": [
    "lst =[str(x) for x in range(1960,2018)]\n",
    "giniIndex[lst].mean(axis=1)\n",
    "gini_index=pd.DataFrame()\n",
    "gini_index['Country']=giniIndex['Country Name']\n",
    "gini_index['Gini']=giniIndex[lst].mean(axis=1)\n",
    "gini_index.dropna()"
   ]
  },
  {
   "cell_type": "code",
   "execution_count": 33,
   "metadata": {},
   "outputs": [],
   "source": [
    "corruption_index = pd.read_csv(\"./Data/corruption_index.csv\", low_memory=False, encoding='latin-1')\n",
    "frequency=pd.DataFrame(panama_entity[\"countries\"].value_counts()).reset_index().rename(index=str, columns={\"index\": \"Country\", \"countries\": \"frequency\"})\n",
    "corr_index=corruption_index[['Country','CPI']]\n",
    "freq_corruption = pd.merge(frequency,corr_index,how='inner').dropna()\n",
    "#freq_corruption =freq_corruption[freq_corruption['frequency'].apply(lambda x: x<15000)]"
   ]
  },
  {
   "cell_type": "code",
   "execution_count": 34,
   "metadata": {},
   "outputs": [
    {
     "data": {
      "text/plain": [
       "[<matplotlib.lines.Line2D at 0x1a1cff60f0>]"
      ]
     },
     "execution_count": 34,
     "metadata": {},
     "output_type": "execute_result"
    },
    {
     "data": {
      "image/png": "[encoded data removed]",
      "text/plain": [
       "<matplotlib.figure.Figure at 0x1a1d1ee470>"
      ]
     },
     "metadata": {},
     "output_type": "display_data"
    }
   ],
   "source": [
    "freq_corruption[['CPI','frequency']].head(50).plot(kind='scatter', x='CPI', y='frequency', grid=True,figsize=(14,5))\n",
    "slope, intercept, r_value, p_value, std_err = stats.linregress(freq_corruption.CPI, freq_corruption.frequency)\n",
    "plt.plot(freq_corruption.CPI, intercept + slope*freq_corruption.CPI, 'r', label='fitted line')"
   ]
  },
  {
   "cell_type": "code",
   "execution_count": 39,
   "metadata": {},
   "outputs": [
    {
     "name": "stdout",
     "output_type": "stream",
     "text": [
      "0.28501397923828836\n",
      "0.0013344949343067987\n"
     ]
    }
   ],
   "source": [
    "print(r_value)\n",
    "print(p_value)"
   ]
  },
  {
   "cell_type": "code",
   "execution_count": 40,
   "metadata": {},
   "outputs": [
    {
     "data": {
      "text/plain": [
       "[<matplotlib.lines.Line2D at 0x1a20c716a0>]"
      ]
     },
     "execution_count": 40,
     "metadata": {},
     "output_type": "execute_result"
    },
    {
     "data": {
      "image/png": "[encoded data removed]",
      "text/plain": [
       "<matplotlib.figure.Figure at 0x1a205f7fd0>"
      ]
     },
     "metadata": {},
     "output_type": "display_data"
    }
   ],
   "source": [
    "freq_gini = pd.merge(frequency,gini_index,how='inner').dropna()\n",
    "#freq_gini =freq_gini[freq_gini['frequency'].apply(lambda x: x<15000)]\n",
    "freq_gini[['Gini','frequency']].head(50).plot(kind='scatter', x='Gini', y='frequency', grid=True,figsize=(14,5))\n",
    "slope1, intercept1, r_value1, p_value1, std_err1 = stats.linregress(freq_gini['Gini'], freq_gini['frequency'])\n",
    "plt.plot(freq_gini['Gini'], intercept1 + slope1*freq_gini['Gini'], 'r', label='fitted line')"
   ]
  },
  {
   "cell_type": "code",
   "execution_count": 41,
   "metadata": {},
   "outputs": [
    {
     "name": "stdout",
     "output_type": "stream",
     "text": [
      "-0.022247223388169854\n",
      "0.823491356157225\n"
     ]
    }
   ],
   "source": [
    "print(r_value1)\n",
    "print(p_value1)"
   ]
  },
  {
   "cell_type": "code",
   "execution_count": null,
   "metadata": {},
   "outputs": [],
   "source": [
    "#Convert Date/Time Values\n",
    "panama_entity['incorporation_date'] = pd.to_datetime(panama_entity['incorporation_date'])\n",
    "panama_entity['inactivation_date'] = pd.to_datetime(panama_entity['inactivation_date'])\n",
    "#panama_entity['struck_off_date'] = pd.to_datetime(panama_entity['struck_off_date'])\n",
    "panama_entity[\"closed_date\"] = pd.to_datetime(panama_entity[\"closed_date\"])"
   ]
  },
  {
   "cell_type": "markdown",
   "metadata": {},
   "source": [
    "# 3. Explore data"
   ]
  },
  {
   "cell_type": "code",
   "execution_count": null,
   "metadata": {},
   "outputs": [],
   "source": [
    "panama_officer.head(20)"
   ]
  },
  {
   "cell_type": "markdown",
   "metadata": {},
   "source": [
    "## 3.1 Panama entity\n",
    "We First explore the entity dataset to undersand it a little bit "
   ]
  },
  {
   "cell_type": "code",
   "execution_count": null,
   "metadata": {},
   "outputs": [],
   "source": [
    "print(panama_entity.shape)\n",
    "panama_entity.head(2)"
   ]
  },
  {
   "cell_type": "markdown",
   "metadata": {},
   "source": [
    "## 3.2 Dataset analysis\n"
   ]
  },
  {
   "cell_type": "markdown",
   "metadata": {},
   "source": [
    "### 3.2.1 General information \n",
    "\n",
    "We start by getting the genral informations abot or dataset such as :\n",
    "\n",
    "- The nationality of the Top 10 present offshore companies: We can see that Switzerlnd and Hongkong are by far the most present firm nationalities. All the present countries are developped ones.\n",
    "\n",
    "- The nationality of the Top 15 present offshore juridiction firms: This a log plot, The british virging islands are the most preset juridiction firms.\n",
    "\n",
    "- The evoluution of number of entities along the years: It all started around 1975 and the nmber increased exponantially. With 2 major crises in 2003 and 2010. \n",
    "\n",
    "- The  Top 10 present relation types:This is also a log plot, The shareholders are the most preset relations .\n"
   ]
  },
  {
   "cell_type": "code",
   "execution_count": null,
   "metadata": {},
   "outputs": [],
   "source": [
    "fig, axes = plt.subplots(nrows=2, ncols=2, figsize=(15,10))\n",
    "panama_entity[\"countries\"].value_counts().head(10).plot.bar(title=\"Top 10 Countries\", ax=axes[0,0])\n",
    "ax=pd.DataFrame(panama_entity['incorporation_date'].dropna().dt.year.astype(int).value_counts()).sort_index().plot.line(title='number of entites evolution',ax= axes[0,1])\n",
    "panama_entity[\"jurisdiction_description\"].value_counts().head(15).plot.bar(log = True, title=\"Top 15 Jurisdiction\", ax = axes[1,0])\n",
    "panama_edges[\"link\"].value_counts().head(10).plot.bar(log=True, title = \"Top 10 Relation Type\", ax = axes[1,1])\n",
    "ax.set_xlabel('Year')\n",
    "ax.set_ylabel('Nmber of entited')\n",
    "plt.tight_layout()\n",
    "plt.show()"
   ]
  },
  {
   "cell_type": "markdown",
   "metadata": {},
   "source": [
    "### 3.2.1 Top 10 related entities"
   ]
  },
  {
   "cell_type": "code",
   "execution_count": null,
   "metadata": {},
   "outputs": [],
   "source": [
    "#Get Top 10 Entities that are in Relation\n",
    "df = panama_edges.groupby('START_ID')['TYPE'].value_counts().to_frame()\n",
    "df.columns = [\"Number of Relations\"]\n",
    "df = df.sort_values(by=[\"Number of Relations\"], ascending = False)\n",
    "node_ids = df.head(10).copy()\n",
    "node_ids.reset_index(inplace=True)\n",
    "names = []\n",
    "relations = []\n",
    "#Search for them in Officers, Intermediares or Entities\n",
    "for i in range(0, 10):\n",
    "    name = \"\"\n",
    "    relations.append(node_ids.loc[i, \"TYPE\"])\n",
    "    ID = node_ids.loc[i, \"START_ID\"]\n",
    "    if ID in panama_entity[\"node_id\"].values:\n",
    "        name = panama_entity[panama_entity[\"node_id\"] == ID][\"name\"]\n",
    "        names.append(name)\n",
    "    elif ID in panama_intermediary[\"node_id\"].values:\n",
    "        name = panama_intermediary[panama_intermediary[\"node_id\"] == ID][\"name\"]\n",
    "        names.append(name)\n",
    "    elif ID in panama_officer[\"node_id\"].values:\n",
    "        name = (panama_officer[panama_officer[\"node_id\"] == ID][\"name\"])\n",
    "        names.append(name)\n",
    "    else:\n",
    "        name = panama_address[panama_address[\"node_id\"] == ID][\"address\"]\n",
    "        names.append(name)\n",
    "\n",
    "node_ids[\"Entity Name\"] = pd.Series(names)\n",
    "node_ids.plot.bar(x = \"Entity Name\", y = \"Number of Relations\", title = \"Top 10 Entities that are in Relation\")\n"
   ]
  },
  {
   "cell_type": "code",
   "execution_count": null,
   "metadata": {},
   "outputs": [],
   "source": [
    "#As we can see most of them are intermediaries.\n",
    "node_ids.head(10) "
   ]
  },
  {
   "cell_type": "code",
   "execution_count": null,
   "metadata": {},
   "outputs": [],
   "source": [
    "#Top 10 Statuses of Entities\n",
    "panama_entity[\"status\"].value_counts().plot.bar(log=True)"
   ]
  },
  {
   "cell_type": "markdown",
   "metadata": {},
   "source": [
    "# Creation of The Graph\n",
    "\n",
    "First we create the full graph. The edges are directed connections, as they give out information about who is shareholder of, intermediate of, director of, etc. Nodes can be any of addresses, entities, intermediates or officers. This is due to the fact that an entity should have a legal address, and then intermediaries or officers can be person, companies, foundations, etc."
   ]
  },
  {
   "cell_type": "code",
   "execution_count": null,
   "metadata": {},
   "outputs": [],
   "source": [
    "# create graph\n",
    "G = nx.DiGraph()\n",
    "\n",
    "for n,row in panama_address.iterrows():\n",
    "    G.add_node(row.node_id, node_type=\"address\", details=row.to_dict())\n",
    "    \n",
    "for n,row in panama_entity.iterrows():\n",
    "    G.add_node(row.node_id, node_type=\"entities\", details=row.to_dict())\n",
    "    \n",
    "for n,row in panama_intermediary.iterrows():\n",
    "    G.add_node(row.node_id, node_type=\"intermediates\", details=row.to_dict())\n",
    "    \n",
    "for n,row in panama_officer.iterrows():\n",
    "    G.add_node(row.node_id, node_type=\"officers\", details=row.to_dict())\n",
    "    \n",
    "for n,row in panama_edges.iterrows():b\n",
    "    G.add_edge(row['START_ID'], row['END_ID'], rel_type=row.TYPE, details=row.to_dict())"
   ]
  },
  {
   "cell_type": "code",
   "execution_count": null,
   "metadata": {},
   "outputs": [],
   "source": [
    "nx.write_adjlist(G,\"pp_graph.adjlist\")"
   ]
  },
  {
   "cell_type": "markdown",
   "metadata": {},
   "source": [
    "### Exploring connections of Fortune 500 Companies with Panama Papers\n",
    "\n",
    "In this subsection we will explore the connections of Fortune 500 Companies with the Panama Papers. "
   ]
  },
  {
   "cell_type": "code",
   "execution_count": null,
   "metadata": {},
   "outputs": [],
   "source": [
    "#Explore Forture 500 companies, if they are somehow connected to offshore companies.\n",
    "fortune_500_comp.head(2)"
   ]
  },
  {
   "cell_type": "code",
   "execution_count": null,
   "metadata": {},
   "outputs": [],
   "source": [
    "fortune_500_names = fortune_500_comp[\"Company Name\"].values\n",
    "fortune_500_names = [x.lower() for x in fortune_500_names]\n",
    "\n",
    "#Check in Entities\n",
    "for name in fortune_500_names:\n",
    "    p = panama_entity[(panama_entity[\"country_codes\"] == \"USA\") & (panama_entity[\"name\"].str.lower().str.contains(name, na=False))][\"name\"]\n",
    "    if not p.empty:\n",
    "        print(\"Fortune 500 Name:\", name)\n",
    "        print(p)\n",
    "\n"
   ]
  },
  {
   "cell_type": "markdown",
   "metadata": {},
   "source": [
    "* It is actually difficult to understand if these companies are somehow correlated or not from the data that we have. But we found that there is an entity under the name TESLA Foundation and MOSAIC INTERNATIONAL INC. registered under USA country code, which maybe correlated to TESLA or MOSAIC, that is why we decided to dig up a little bit on that."
   ]
  },
  {
   "cell_type": "code",
   "execution_count": null,
   "metadata": {},
   "outputs": [],
   "source": [
    "#Tesla Foundation and MOSAIC INTERNATIONAL INC.\n",
    "panama_entity[panama_entity[\"name\"].isin([\"TESLA FOUNDATION\", \"MOSAIC INTERNATIONAL INC.\"])]"
   ]
  },
  {
   "cell_type": "code",
   "execution_count": null,
   "metadata": {},
   "outputs": [],
   "source": [
    "#Unfortunatelly the Entity is not connected to anything.\n",
    "teslaGraph = G.subgraph(nx.shortest_path(G, 10168981))\n",
    "plot_graph(teslaGraph, figsize=(15,12), label_edges=True)"
   ]
  },
  {
   "cell_type": "code",
   "execution_count": null,
   "metadata": {},
   "outputs": [],
   "source": [
    "#Unfortunatelly the Entity is not connected to anything.\n",
    "mosaicGraph = G.subgraph(nx.shortest_path(G, 10065968))\n",
    "plot_graph(mosaicGraph, figsize=(15,12), label_edges=True)"
   ]
  },
  {
   "cell_type": "markdown",
   "metadata": {},
   "source": [
    "### Network of King Salman bin Abdulaziz bin Abdulrahman Al Saud - King of Saudi Arabia\n",
    "In this subsection we will explore the connection of big player name that was found in the panama papers. We will expore the network of King of Saudi Arabia - Salman bin Abdulaziz bin Abdulrahman Al Saud. "
   ]
  },
  {
   "cell_type": "code",
   "execution_count": null,
   "metadata": {},
   "outputs": [],
   "source": [
    "#Explore Network for Tax Evasion Comapnies that are surronded around King Salman bin Abdulaziz bin Abdulrahman Al Saud\n",
    "kingSaudiArabia = \"King Salman bin Abdulaziz bin Abdulrahman Al Saud\"\n",
    "\n",
    "#Check if he actually exists in the data.\n",
    "panama_officer[panama_officer[\"name\"] == kingSaudiArabia]"
   ]
  },
  {
   "cell_type": "code",
   "execution_count": null,
   "metadata": {},
   "outputs": [],
   "source": [
    "#Create a subgraph(connected component, which will shows with what nodes does the king interact) by BFS\n",
    "kingGraph = G.subgraph(nx.shortest_path(G, 15004501))\n",
    "plot_graph(kingGraph, figsize=(15,12), label_edges=True)"
   ]
  },
  {
   "cell_type": "markdown",
   "metadata": {},
   "source": [
    "As we can see the King is connected to a couple of companies all having almost the same name(probably are the same company) which are being officers, the company address is in Luxembourg. these companies are then connected to actual offshore entities. We can see that this SAFASON CORPORATION SPF is connected to various other entties VERSE DEVELOPMENT CORP, CRASSUS LIMITED, PARK PROPERTY LIMITED, CRASSUS LIMITED."
   ]
  },
  {
   "cell_type": "code",
   "execution_count": null,
   "metadata": {},
   "outputs": [],
   "source": [
    "#Expore VERSE DEVELOPENT CORP, \n",
    "listOfEntities = [\"VERSE DEVELOPMENT CORP.\", \"PARK PROPERTY LIMITED\", \"INROW CORPORATION\", \"CRASSUS LIMITED\"] \n",
    "display(panama_entity[panama_entity[\"name\"].isin(listOfEntities)])"
   ]
  },
  {
   "cell_type": "markdown",
   "metadata": {},
   "source": [
    "We can see that Verse Development Corp. was incorporated in 1991 in Panama, under the country Jordan, in fact all of the companies are under country Jordan. All of the entities are a still activate, and they are residing in 2 jurisdictions Panama and British Virgin Islands."
   ]
  },
  {
   "cell_type": "markdown",
   "metadata": {},
   "source": [
    "## Milestone 3\n",
    "\n",
    "For milestone 3 we are going to finish answering the questions we chose to keep. For the correlation between social-economical condition and tax evasion we are going to use additional information, Human Development Index, Global Peace Index and Corruption Perception Index. \n",
    "Next, we are going to improve the visualization of the data by presenting a data story about the correlation between countries and shells. "
   ]
  },
  {
   "cell_type": "markdown",
   "metadata": {},
   "source": [
    "# 4. References\n",
    "\n",
    "[1] https://github.com/Roussaky/ada-EPFL/blob/master/project/project_notebook.ipynb\n",
    "\n",
    "[2] https://github.com/REDeLapp/Panama-Papers-Network-Analysis\n",
    "\n",
    "[3] https://github.com/amaboura/panama-papers-dataset-2016"
   ]
  }
 ],
 "metadata": {
  "kernelspec": {
   "display_name": "Python 3",
   "language": "python",
   "name": "python3"
  },
  "language_info": {
   "codemirror_mode": {
    "name": "ipython",
    "version": 3
   },
   "file_extension": ".py",
   "mimetype": "text/x-python",
   "name": "python",
   "nbconvert_exporter": "python",
   "pygments_lexer": "ipython3",
   "version": "3.6.4"
  }
 },
 "nbformat": 4,
 "nbformat_minor": 2
}
