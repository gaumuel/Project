{
 "cells": [
  {
   "cell_type": "markdown",
   "metadata": {},
   "source": [
    "# Panama Papers: Discovery of Corruption"
   ]
  },
  {
   "cell_type": "markdown",
   "metadata": {},
   "source": [
    "* Students: Ilija Gjorgjiev, Gauthier Mueller, Mahmoud Zgolli\n",
    "* Dataset: Panama Papers"
   ]
  },
  {
   "cell_type": "code",
   "execution_count": 51,
   "metadata": {},
   "outputs": [],
   "source": [
    "import pandas as pd\n",
    "import numpy as np\n",
    "import scipy as sp\n",
    "import matplotlib.pyplot as plt\n",
    "from sklearn.metrics import confusion_matrix, precision_recall_fscore_support, precision_score, recall_score, f1_score\n",
    "from sklearn.linear_model import LinearRegression, LogisticRegression\n",
    "from sklearn.ensemble import RandomForestClassifier\n",
    "from sklearn.preprocessing import OneHotEncoder\n",
    "from pandas.plotting import scatter_matrix\n",
    "from sklearn.model_selection import cross_val_predict\n",
    "from sklearn.model_selection import cross_val_score\n",
    "from sklearn.model_selection import GridSearchCV\n",
    "from scipy.stats.stats import pearsonr\n",
    "import seaborn as sns\n",
    "from scipy import stats\n",
    "from py2neo import Graph, Node, Relationship\n",
    "%matplotlib inline"
   ]
  },
  {
   "cell_type": "code",
   "execution_count": 2,
   "metadata": {},
   "outputs": [],
   "source": [
    "#Load Data\n",
    "panama_entity = pd.read_csv('./Data/panama_papers/panama_papers.nodes.entity.csv', low_memory=False)\n",
    "panama_officer = pd.read_csv('./Data/panama_papers/panama_papers.nodes.officer.csv', low_memory=False)\n",
    "panama_edges = pd.read_csv(\"./Data/panama_papers/panama_papers.edges.csv\", low_memory=False)\n",
    "panama_address = pd.read_csv(\"./Data/panama_papers/panama_papers.nodes.address.csv\", low_memory=False)\n",
    "panama_intermediary = pd.read_csv(\"./Data/panama_papers/panama_papers.nodes.intermediary.csv\", low_memory=False)"
   ]
  },
  {
   "cell_type": "code",
   "execution_count": 3,
   "metadata": {},
   "outputs": [],
   "source": [
    "#Convert Date/Time Values\n",
    "panama_entity['incorporation_date'] = pd.to_datetime(panama_entity['incorporation_date'])\n",
    "panama_entity['inactivation_date'] = pd.to_datetime(panama_entity['inactivation_date'])\n",
    "#panama_entity['struck_off_date'] = pd.to_datetime(panama_entity['struck_off_date'])\n",
    "panama_entity[\"closed_date\"] = pd.to_datetime(panama_entity[\"closed_date\"])"
   ]
  },
  {
   "cell_type": "code",
   "execution_count": 4,
   "metadata": {},
   "outputs": [
    {
     "name": "stdout",
     "output_type": "stream",
     "text": [
      "(213634, 17)\n"
     ]
    },
    {
     "data": {
      "text/html": [
       "<div>\n",
       "<style scoped>\n",
       "    .dataframe tbody tr th:only-of-type {\n",
       "        vertical-align: middle;\n",
       "    }\n",
       "\n",
       "    .dataframe tbody tr th {\n",
       "        vertical-align: top;\n",
       "    }\n",
       "\n",
       "    .dataframe thead th {\n",
       "        text-align: right;\n",
       "    }\n",
       "</style>\n",
       "<table border=\"1\" class=\"dataframe\">\n",
       "  <thead>\n",
       "    <tr style=\"text-align: right;\">\n",
       "      <th></th>\n",
       "      <th>node_id</th>\n",
       "      <th>name</th>\n",
       "      <th>jurisdiction</th>\n",
       "      <th>jurisdiction_description</th>\n",
       "      <th>country_codes</th>\n",
       "      <th>countries</th>\n",
       "      <th>incorporation_date</th>\n",
       "      <th>inactivation_date</th>\n",
       "      <th>struck_off_date</th>\n",
       "      <th>closed_date</th>\n",
       "      <th>ibcRUC</th>\n",
       "      <th>status</th>\n",
       "      <th>company_type</th>\n",
       "      <th>service_provider</th>\n",
       "      <th>sourceID</th>\n",
       "      <th>valid_until</th>\n",
       "      <th>note</th>\n",
       "    </tr>\n",
       "  </thead>\n",
       "  <tbody>\n",
       "    <tr>\n",
       "      <th>0</th>\n",
       "      <td>10000001</td>\n",
       "      <td>TIANSHENG INDUSTRY AND TRADING CO., LTD.</td>\n",
       "      <td>SAM</td>\n",
       "      <td>Samoa</td>\n",
       "      <td>HKG</td>\n",
       "      <td>Hong Kong</td>\n",
       "      <td>2006-03-23</td>\n",
       "      <td>2013-02-18</td>\n",
       "      <td>15-FEB-2013</td>\n",
       "      <td>NaT</td>\n",
       "      <td>25221</td>\n",
       "      <td>Defaulted</td>\n",
       "      <td>NaN</td>\n",
       "      <td>Mossack Fonseca</td>\n",
       "      <td>Panama Papers</td>\n",
       "      <td>The Panama Papers data is current through 2015</td>\n",
       "      <td>NaN</td>\n",
       "    </tr>\n",
       "    <tr>\n",
       "      <th>1</th>\n",
       "      <td>10000002</td>\n",
       "      <td>NINGBO SUNRISE ENTERPRISES UNITED CO., LTD.</td>\n",
       "      <td>SAM</td>\n",
       "      <td>Samoa</td>\n",
       "      <td>HKG</td>\n",
       "      <td>Hong Kong</td>\n",
       "      <td>2006-03-27</td>\n",
       "      <td>2014-02-27</td>\n",
       "      <td>15-FEB-2014</td>\n",
       "      <td>NaT</td>\n",
       "      <td>25249</td>\n",
       "      <td>Defaulted</td>\n",
       "      <td>NaN</td>\n",
       "      <td>Mossack Fonseca</td>\n",
       "      <td>Panama Papers</td>\n",
       "      <td>The Panama Papers data is current through 2015</td>\n",
       "      <td>NaN</td>\n",
       "    </tr>\n",
       "  </tbody>\n",
       "</table>\n",
       "</div>"
      ],
      "text/plain": [
       "    node_id                                         name jurisdiction  \\\n",
       "0  10000001     TIANSHENG INDUSTRY AND TRADING CO., LTD.          SAM   \n",
       "1  10000002  NINGBO SUNRISE ENTERPRISES UNITED CO., LTD.          SAM   \n",
       "\n",
       "  jurisdiction_description country_codes  countries incorporation_date  \\\n",
       "0                    Samoa           HKG  Hong Kong         2006-03-23   \n",
       "1                    Samoa           HKG  Hong Kong         2006-03-27   \n",
       "\n",
       "  inactivation_date struck_off_date closed_date ibcRUC     status  \\\n",
       "0        2013-02-18     15-FEB-2013         NaT  25221  Defaulted   \n",
       "1        2014-02-27     15-FEB-2014         NaT  25249  Defaulted   \n",
       "\n",
       "   company_type service_provider       sourceID  \\\n",
       "0           NaN  Mossack Fonseca  Panama Papers   \n",
       "1           NaN  Mossack Fonseca  Panama Papers   \n",
       "\n",
       "                                      valid_until note  \n",
       "0  The Panama Papers data is current through 2015  NaN  \n",
       "1  The Panama Papers data is current through 2015  NaN  "
      ]
     },
     "execution_count": 4,
     "metadata": {},
     "output_type": "execute_result"
    }
   ],
   "source": [
    "#Explore Data\n",
    "print(panama_entity.shape)\n",
    "panama_entity.head(2)"
   ]
  },
  {
   "cell_type": "code",
   "execution_count": 5,
   "metadata": {},
   "outputs": [
    {
     "name": "stdout",
     "output_type": "stream",
     "text": [
      "(238402, 7)\n"
     ]
    },
    {
     "data": {
      "text/html": [
       "<div>\n",
       "<style scoped>\n",
       "    .dataframe tbody tr th:only-of-type {\n",
       "        vertical-align: middle;\n",
       "    }\n",
       "\n",
       "    .dataframe tbody tr th {\n",
       "        vertical-align: top;\n",
       "    }\n",
       "\n",
       "    .dataframe thead th {\n",
       "        text-align: right;\n",
       "    }\n",
       "</style>\n",
       "<table border=\"1\" class=\"dataframe\">\n",
       "  <thead>\n",
       "    <tr style=\"text-align: right;\">\n",
       "      <th></th>\n",
       "      <th>node_id</th>\n",
       "      <th>name</th>\n",
       "      <th>country_codes</th>\n",
       "      <th>countries</th>\n",
       "      <th>sourceID</th>\n",
       "      <th>valid_until</th>\n",
       "      <th>note</th>\n",
       "    </tr>\n",
       "  </thead>\n",
       "  <tbody>\n",
       "    <tr>\n",
       "      <th>0</th>\n",
       "      <td>12000001</td>\n",
       "      <td>KIM SOO IN</td>\n",
       "      <td>KOR</td>\n",
       "      <td>South Korea</td>\n",
       "      <td>Panama Papers</td>\n",
       "      <td>The Panama Papers data is current through 2015</td>\n",
       "      <td>NaN</td>\n",
       "    </tr>\n",
       "    <tr>\n",
       "      <th>1</th>\n",
       "      <td>12000002</td>\n",
       "      <td>Tian Yuan</td>\n",
       "      <td>CHN</td>\n",
       "      <td>China</td>\n",
       "      <td>Panama Papers</td>\n",
       "      <td>The Panama Papers data is current through 2015</td>\n",
       "      <td>NaN</td>\n",
       "    </tr>\n",
       "  </tbody>\n",
       "</table>\n",
       "</div>"
      ],
      "text/plain": [
       "    node_id        name country_codes    countries       sourceID  \\\n",
       "0  12000001  KIM SOO IN           KOR  South Korea  Panama Papers   \n",
       "1  12000002   Tian Yuan           CHN        China  Panama Papers   \n",
       "\n",
       "                                      valid_until note  \n",
       "0  The Panama Papers data is current through 2015  NaN  \n",
       "1  The Panama Papers data is current through 2015  NaN  "
      ]
     },
     "execution_count": 5,
     "metadata": {},
     "output_type": "execute_result"
    }
   ],
   "source": [
    "print(panama_officer.shape)\n",
    "panama_officer.head(2)"
   ]
  },
  {
   "cell_type": "code",
   "execution_count": 6,
   "metadata": {},
   "outputs": [
    {
     "name": "stdout",
     "output_type": "stream",
     "text": [
      "(674102, 8)\n"
     ]
    },
    {
     "data": {
      "text/html": [
       "<div>\n",
       "<style scoped>\n",
       "    .dataframe tbody tr th:only-of-type {\n",
       "        vertical-align: middle;\n",
       "    }\n",
       "\n",
       "    .dataframe tbody tr th {\n",
       "        vertical-align: top;\n",
       "    }\n",
       "\n",
       "    .dataframe thead th {\n",
       "        text-align: right;\n",
       "    }\n",
       "</style>\n",
       "<table border=\"1\" class=\"dataframe\">\n",
       "  <thead>\n",
       "    <tr style=\"text-align: right;\">\n",
       "      <th></th>\n",
       "      <th>START_ID</th>\n",
       "      <th>TYPE</th>\n",
       "      <th>END_ID</th>\n",
       "      <th>link</th>\n",
       "      <th>start_date</th>\n",
       "      <th>end_date</th>\n",
       "      <th>sourceID</th>\n",
       "      <th>valid_until</th>\n",
       "    </tr>\n",
       "  </thead>\n",
       "  <tbody>\n",
       "    <tr>\n",
       "      <th>0</th>\n",
       "      <td>10000035</td>\n",
       "      <td>registered_address</td>\n",
       "      <td>14095990</td>\n",
       "      <td>registered address</td>\n",
       "      <td>NaN</td>\n",
       "      <td>NaN</td>\n",
       "      <td>Panama Papers</td>\n",
       "      <td>NaN</td>\n",
       "    </tr>\n",
       "    <tr>\n",
       "      <th>1</th>\n",
       "      <td>10000044</td>\n",
       "      <td>registered_address</td>\n",
       "      <td>14091035</td>\n",
       "      <td>registered address</td>\n",
       "      <td>NaN</td>\n",
       "      <td>NaN</td>\n",
       "      <td>Panama Papers</td>\n",
       "      <td>NaN</td>\n",
       "    </tr>\n",
       "  </tbody>\n",
       "</table>\n",
       "</div>"
      ],
      "text/plain": [
       "   START_ID                TYPE    END_ID                link start_date  \\\n",
       "0  10000035  registered_address  14095990  registered address        NaN   \n",
       "1  10000044  registered_address  14091035  registered address        NaN   \n",
       "\n",
       "  end_date       sourceID valid_until  \n",
       "0      NaN  Panama Papers         NaN  \n",
       "1      NaN  Panama Papers         NaN  "
      ]
     },
     "execution_count": 6,
     "metadata": {},
     "output_type": "execute_result"
    }
   ],
   "source": [
    "print(panama_edges.shape)\n",
    "panama_edges.head(2)"
   ]
  },
  {
   "cell_type": "code",
   "execution_count": 7,
   "metadata": {},
   "outputs": [
    {
     "name": "stdout",
     "output_type": "stream",
     "text": [
      "(93454, 8)\n"
     ]
    },
    {
     "data": {
      "text/html": [
       "<div>\n",
       "<style scoped>\n",
       "    .dataframe tbody tr th:only-of-type {\n",
       "        vertical-align: middle;\n",
       "    }\n",
       "\n",
       "    .dataframe tbody tr th {\n",
       "        vertical-align: top;\n",
       "    }\n",
       "\n",
       "    .dataframe thead th {\n",
       "        text-align: right;\n",
       "    }\n",
       "</style>\n",
       "<table border=\"1\" class=\"dataframe\">\n",
       "  <thead>\n",
       "    <tr style=\"text-align: right;\">\n",
       "      <th></th>\n",
       "      <th>node_id</th>\n",
       "      <th>name</th>\n",
       "      <th>address</th>\n",
       "      <th>country_codes</th>\n",
       "      <th>countries</th>\n",
       "      <th>sourceID</th>\n",
       "      <th>valid_until</th>\n",
       "      <th>note</th>\n",
       "    </tr>\n",
       "  </thead>\n",
       "  <tbody>\n",
       "    <tr>\n",
       "      <th>0</th>\n",
       "      <td>14000001</td>\n",
       "      <td>NaN</td>\n",
       "      <td>-\\t27 ROSEWOOD DRIVE #16-19 SINGAPORE 737920</td>\n",
       "      <td>SGP</td>\n",
       "      <td>Singapore</td>\n",
       "      <td>Panama Papers</td>\n",
       "      <td>The Panama Papers  data is current through 2015</td>\n",
       "      <td>NaN</td>\n",
       "    </tr>\n",
       "    <tr>\n",
       "      <th>1</th>\n",
       "      <td>14000002</td>\n",
       "      <td>NaN</td>\n",
       "      <td>\"Almaly Village\" v.5, Almaty Kazakhstan</td>\n",
       "      <td>KAZ</td>\n",
       "      <td>Kazakhstan</td>\n",
       "      <td>Panama Papers</td>\n",
       "      <td>The Panama Papers  data is current through 2015</td>\n",
       "      <td>NaN</td>\n",
       "    </tr>\n",
       "  </tbody>\n",
       "</table>\n",
       "</div>"
      ],
      "text/plain": [
       "    node_id  name                                       address country_codes  \\\n",
       "0  14000001   NaN  -\\t27 ROSEWOOD DRIVE #16-19 SINGAPORE 737920           SGP   \n",
       "1  14000002   NaN       \"Almaly Village\" v.5, Almaty Kazakhstan           KAZ   \n",
       "\n",
       "    countries       sourceID                                      valid_until  \\\n",
       "0   Singapore  Panama Papers  The Panama Papers  data is current through 2015   \n",
       "1  Kazakhstan  Panama Papers  The Panama Papers  data is current through 2015   \n",
       "\n",
       "   note  \n",
       "0   NaN  \n",
       "1   NaN  "
      ]
     },
     "execution_count": 7,
     "metadata": {},
     "output_type": "execute_result"
    }
   ],
   "source": [
    "print(panama_address.shape)\n",
    "panama_address.head(2)"
   ]
  },
  {
   "cell_type": "code",
   "execution_count": 18,
   "metadata": {},
   "outputs": [
    {
     "name": "stdout",
     "output_type": "stream",
     "text": [
      "(14110, 8)\n"
     ]
    },
    {
     "data": {
      "text/html": [
       "<div>\n",
       "<style scoped>\n",
       "    .dataframe tbody tr th:only-of-type {\n",
       "        vertical-align: middle;\n",
       "    }\n",
       "\n",
       "    .dataframe tbody tr th {\n",
       "        vertical-align: top;\n",
       "    }\n",
       "\n",
       "    .dataframe thead th {\n",
       "        text-align: right;\n",
       "    }\n",
       "</style>\n",
       "<table border=\"1\" class=\"dataframe\">\n",
       "  <thead>\n",
       "    <tr style=\"text-align: right;\">\n",
       "      <th></th>\n",
       "      <th>node_id</th>\n",
       "      <th>name</th>\n",
       "      <th>country_codes</th>\n",
       "      <th>countries</th>\n",
       "      <th>status</th>\n",
       "      <th>sourceID</th>\n",
       "      <th>valid_until</th>\n",
       "      <th>note</th>\n",
       "    </tr>\n",
       "  </thead>\n",
       "  <tbody>\n",
       "    <tr>\n",
       "      <th>0</th>\n",
       "      <td>11000001</td>\n",
       "      <td>MICHAEL PAPAGEORGE, MR.</td>\n",
       "      <td>ZAF</td>\n",
       "      <td>South Africa</td>\n",
       "      <td>ACTIVE</td>\n",
       "      <td>Panama Papers</td>\n",
       "      <td>The Panama Papers  data is current through 2015</td>\n",
       "      <td>NaN</td>\n",
       "    </tr>\n",
       "    <tr>\n",
       "      <th>1</th>\n",
       "      <td>11000002</td>\n",
       "      <td>CORFIDUCIA ANSTALT</td>\n",
       "      <td>LIE</td>\n",
       "      <td>Liechtenstein</td>\n",
       "      <td>ACTIVE</td>\n",
       "      <td>Panama Papers</td>\n",
       "      <td>The Panama Papers  data is current through 2015</td>\n",
       "      <td>NaN</td>\n",
       "    </tr>\n",
       "  </tbody>\n",
       "</table>\n",
       "</div>"
      ],
      "text/plain": [
       "    node_id                     name country_codes      countries  status  \\\n",
       "0  11000001  MICHAEL PAPAGEORGE, MR.           ZAF   South Africa  ACTIVE   \n",
       "1  11000002       CORFIDUCIA ANSTALT           LIE  Liechtenstein  ACTIVE   \n",
       "\n",
       "        sourceID                                      valid_until note  \n",
       "0  Panama Papers  The Panama Papers  data is current through 2015  NaN  \n",
       "1  Panama Papers  The Panama Papers  data is current through 2015  NaN  "
      ]
     },
     "execution_count": 18,
     "metadata": {},
     "output_type": "execute_result"
    }
   ],
   "source": [
    "print(panama_intermediary.shape)\n",
    "panama_intermediary.head(2)"
   ]
  },
  {
   "cell_type": "code",
   "execution_count": 11,
   "metadata": {},
   "outputs": [
    {
     "data": {
      "text/plain": [
       "<matplotlib.axes._subplots.AxesSubplot at 0x1a0ae6c8d0>"
      ]
     },
     "execution_count": 11,
     "metadata": {},
     "output_type": "execute_result"
    },
    {
     "data": {
      "image/png": "[encoded data removed]",
      "text/plain": [
       "<Figure size 432x288 with 1 Axes>"
      ]
     },
     "metadata": {},
     "output_type": "display_data"
    }
   ],
   "source": [
    "panama_entity.groupby(\"countries\").count().sort_values(by=[\"node_id\"],ascending = False)[\"node_id\"].head(10).plot.bar(title=\"Top 10 Countries\")"
   ]
  },
  {
   "cell_type": "code",
   "execution_count": 12,
   "metadata": {},
   "outputs": [
    {
     "data": {
      "text/plain": [
       "<matplotlib.axes._subplots.AxesSubplot at 0x1a0c9456a0>"
      ]
     },
     "execution_count": 12,
     "metadata": {},
     "output_type": "execute_result"
    },
    {
     "data": {
      "image/png": "[encoded data removed]",
      "text/plain": [
       "<Figure size 432x288 with 1 Axes>"
      ]
     },
     "metadata": {},
     "output_type": "display_data"
    }
   ],
   "source": [
    "panama_officer.groupby(\"name\").count().sort_values(by=[\"node_id\"], ascending = False)[\"node_id\"].head(15).plot.bar(log=True, title = \"Top 15 Offciers\")"
   ]
  },
  {
   "cell_type": "code",
   "execution_count": 16,
   "metadata": {},
   "outputs": [
    {
     "data": {
      "text/plain": [
       "<matplotlib.axes._subplots.AxesSubplot at 0x1a12d265f8>"
      ]
     },
     "execution_count": 16,
     "metadata": {},
     "output_type": "execute_result"
    },
    {
     "data": {
      "image/png": "[encoded data removed]",
      "text/plain": [
       "<Figure size 432x288 with 1 Axes>"
      ]
     },
     "metadata": {},
     "output_type": "display_data"
    }
   ],
   "source": [
    "panama_entity.groupby(\"jurisdiction_description\").count().sort_values(by=[\"node_id\"], ascending = False)[\"node_id\"].head(15).plot.bar(log=True, title = \"Top 15 Jurisdctions\")"
   ]
  },
  {
   "cell_type": "code",
   "execution_count": 35,
   "metadata": {},
   "outputs": [
    {
     "data": {
      "text/plain": [
       "<matplotlib.axes._subplots.AxesSubplot at 0x1a0aa39198>"
      ]
     },
     "execution_count": 35,
     "metadata": {},
     "output_type": "execute_result"
    },
    {
     "data": {
      "image/png": "[encoded data removed]",
      "text/plain": [
       "<Figure size 432x288 with 1 Axes>"
      ]
     },
     "metadata": {},
     "output_type": "display_data"
    }
   ],
   "source": [
    "panama_edges[\"link\"].value_counts().head(10).plot.bar(log=True, title = \"What is the link of the officer with the company\")"
   ]
  },
  {
   "cell_type": "code",
   "execution_count": 105,
   "metadata": {},
   "outputs": [
    {
     "data": {
      "text/plain": [
       "<matplotlib.axes._subplots.AxesSubplot at 0x1a0aa55630>"
      ]
     },
     "execution_count": 105,
     "metadata": {},
     "output_type": "execute_result"
    },
    {
     "data": {
      "image/png": "[encoded data removed]",
      "text/plain": [
       "<Figure size 432x288 with 1 Axes>"
      ]
     },
     "metadata": {},
     "output_type": "display_data"
    }
   ],
   "source": [
    "#Get the names of 20 most connected nodes in the graph.\n",
    "node_ids = panama_edges[\"START_ID\"].value_counts().head(20)\n",
    "keys = node_ids.keys()\n",
    "names = []\n",
    "#Search for them in Officers, Intermediares or Entities\n",
    "for i, nodeId in enumerate(node_ids):\n",
    "    name = \"\"\n",
    "    if keys[i] in panama_entity[\"node_id\"].values:\n",
    "        name = panama_entity[panama_entity[\"node_id\"] == keys[i]][\"name\"]\n",
    "        names.append(name)\n",
    "    elif keys[i] in panama_intermediary[\"node_id\"].values:\n",
    "        name = panama_intermediary[panama_intermediary[\"node_id\"] == keys[i]][\"name\"]\n",
    "        names.append(name)\n",
    "    elif keys[i] in panama_officer[\"node_id\"].values:\n",
    "        name = (panama_officer[panama_officer[\"node_id\"] == keys[i]][\"name\"])\n",
    "        names.append(name)\n",
    "    else:\n",
    "        name = panama_address[panama_address[\"node_id\"] == keys[i]][\"address\"]\n",
    "        names.append(name)\n",
    "\n",
    "df = pd.DataFrame(data={\"Name\" : names, \"Values\" : node_ids.values})\n",
    "df.set_index(\"Name\", inplace=True)\n",
    "df.plot.bar()\n",
    "\n"
   ]
  },
  {
   "cell_type": "code",
   "execution_count": 49,
   "metadata": {},
   "outputs": [
    {
     "data": {
      "text/html": [
       "<div>\n",
       "<style scoped>\n",
       "    .dataframe tbody tr th:only-of-type {\n",
       "        vertical-align: middle;\n",
       "    }\n",
       "\n",
       "    .dataframe tbody tr th {\n",
       "        vertical-align: top;\n",
       "    }\n",
       "\n",
       "    .dataframe thead th {\n",
       "        text-align: right;\n",
       "    }\n",
       "</style>\n",
       "<table border=\"1\" class=\"dataframe\">\n",
       "  <thead>\n",
       "    <tr style=\"text-align: right;\">\n",
       "      <th></th>\n",
       "      <th>node_id</th>\n",
       "      <th>name</th>\n",
       "      <th>country_codes</th>\n",
       "      <th>countries</th>\n",
       "      <th>status</th>\n",
       "      <th>sourceID</th>\n",
       "      <th>valid_until</th>\n",
       "      <th>note</th>\n",
       "    </tr>\n",
       "  </thead>\n",
       "  <tbody>\n",
       "    <tr>\n",
       "      <th>1756</th>\n",
       "      <td>11001746</td>\n",
       "      <td>ORION HOUSE SERVICES (HK) LIMITED</td>\n",
       "      <td>HKG</td>\n",
       "      <td>Hong Kong</td>\n",
       "      <td>ACTIVE</td>\n",
       "      <td>Panama Papers</td>\n",
       "      <td>The Panama Papers  data is current through 2015</td>\n",
       "      <td>NaN</td>\n",
       "    </tr>\n",
       "  </tbody>\n",
       "</table>\n",
       "</div>"
      ],
      "text/plain": [
       "       node_id                               name country_codes  countries  \\\n",
       "1756  11001746  ORION HOUSE SERVICES (HK) LIMITED           HKG  Hong Kong   \n",
       "\n",
       "      status       sourceID                                      valid_until  \\\n",
       "1756  ACTIVE  Panama Papers  The Panama Papers  data is current through 2015   \n",
       "\n",
       "     note  \n",
       "1756  NaN  "
      ]
     },
     "execution_count": 49,
     "metadata": {},
     "output_type": "execute_result"
    }
   ],
   "source": [
    "panama_intermediary[panama_intermediary[\"node_id\"] == 11001746] "
   ]
  },
  {
   "cell_type": "markdown",
   "metadata": {},
   "source": [
    "#### py2neo\n",
    "\n",
    "run neo4j desktop for icij and once it is started run the following queries"
   ]
  },
  {
   "cell_type": "code",
   "execution_count": 54,
   "metadata": {},
   "outputs": [],
   "source": [
    "graph = Graph(\"http://localhost:7474/browser/\")"
   ]
  },
  {
   "cell_type": "code",
   "execution_count": 55,
   "metadata": {},
   "outputs": [
    {
     "data": {
      "text/plain": [
       "[{'p': (CARIBBEAN OUTFITTERS N.V. - CARIBBEAN OUTFITTERS)-[:None {}]->(CARIBBEAN OUTFITTERS N.V.)},\n",
       " {'p': (CDR CONSULTANTS RETAILERS DEVELOPERS GROUP N.V. - EVA BOUTIQUE)-[:None {}]->(CDR CONSULTANTS RETAILERS DEVELOPERS GROUP N.V. - EVA BOUTIQUE)},\n",
       " {'p': (MONICA N.V.)-[:None {}]->(MONICA N.V.)},\n",
       " {'p': (CAPERUCITA ROJA)-[:None {}]->(CAPERUCITA ROJA)},\n",
       " {'p': (LA PATISSERIE)-[:None {}]->(LA PATISSERIE)},\n",
       " {'p': (CASA BLANCA N.V.)-[:None {}]->(CASA BLANCA N.V.)},\n",
       " {'p': (CASA BLANCA N.V.)-[:None {}]->(CASA BLANCA N.V.)},\n",
       " {'p': (A & R GEM STONES INTERNATIONAL N.V.)-[:None {}]->(A & R GEM STONES INTERNATIONAL N.V.)},\n",
       " {'p': (ESSO PETROLERA S.A. - ESSO PETROLERA S.A.)-[:None {}]->(ESSO PETROLERA S.A. - ESSO PETROLERA S.A.)},\n",
       " {'p': (SUGARBIRD N.V.)-[:None {}]->(SUGARBIRD N.V.)},\n",
       " {'p': (EDELWEISS DELICATESSEN)-[:None {}]->(EDELWEISS DELICATESSEN)},\n",
       " {'p': (CLAUDINE BEAUTY CLINIC)-[:None {}]->(CLAUDINE BEAUTY CLINIC)},\n",
       " {'p': (RISING DRAGON)-[:None {}]->(RISING DRAGON)},\n",
       " {'p': (FLORESTERIA PARADIJS)-[:None {}]->(FLORESTERIA PARADIJS)},\n",
       " {'p': (PUEBLO MEAT & FOOD NV - PUEBLO MEAT & FOOD NV)-[:None {}]->(PUEBLO MEAT & FOOD NV - PUEBLO MEAT & FOOD NV)},\n",
       " {'p': (B.G.B. LACLE & ZONEN)-[:None {}]->(B.G.B. LACLE & ZONEN)},\n",
       " {'p': (DOWN TOWN)-[:None {}]->(DOWN TOWN)},\n",
       " {'p': (FASHION-PASHION N.V. - BENETTON)-[:None {}]->(FASHION-PASHION N.V. - BENETTON)},\n",
       " {'p': (FASHION-PASHION N.V. - BENETTON)-[:None {}]->(FASHION-PASHION N.V. - BENETTON)},\n",
       " {'p': (DOWCO N.V.)-[:None {}]->(DOWCO N.V.)},\n",
       " {'p': (FURNITURE OUTLET CENTER)-[:None {}]->(FURNITURE OUTLET CENTER)},\n",
       " {'p': (CLASSIC BOUTIQUE)-[:None {}]->(CLASSIC BOUTIQUE)},\n",
       " {'p': (METGE FASHION N.V.)-[:None {}]->(METGE FASHION N.V.)},\n",
       " {'p': (MONICA N.V.)-[:None {}]->(MONICA N.V.)},\n",
       " {'p': (INTERCON FINANCIAL BANK N.V.)-[:None {}]->(INTERCON FINANCIAL BANK N.V.)}]"
      ]
     },
     "execution_count": 55,
     "metadata": {},
     "output_type": "execute_result"
    }
   ],
   "source": [
    "graph.run(\"MATCH p=()-[r:SAME_NAME_AS]->() RETURN p LIMIT 25\").data()"
   ]
  },
  {
   "cell_type": "code",
   "execution_count": 57,
   "metadata": {},
   "outputs": [
    {
     "data": {
      "text/plain": [
       "[{'p': (ORION HOUSE SERVICES (HK) LIMITED)-[:None {}]->(TIANSHENG INDUSTRY AND TRADING CO., LTD.)},\n",
       " {'p': (ORION HOUSE SERVICES (HK) LIMITED)-[:None {}]->(NINGBO SUNRISE ENTERPRISES UNITED CO., LTD.)},\n",
       " {'p': (ORION HOUSE SERVICES (HK) LIMITED)-[:None {}]->(HOTFOCUS CO., LTD.)},\n",
       " {'p': (ORION HOUSE SERVICES (HK) LIMITED)-[:None {}]->(SKY-BLUE GIFTS & TOYS CO., LTD.)},\n",
       " {'p': (LOYAL PORT LIMITED)-[:None {}]->(FORTUNEMAKER INVESTMENTS CORPORATION)},\n",
       " {'p': (TWC MANAGEMENT LIMITED)-[:None {}]->(8808 HOLDING LIMITED)},\n",
       " {'p': (ORION HOUSE SERVICES (HK) LIMITED)-[:None {}]->(KENT DEVELOPMENT LIMITED)},\n",
       " {'p': (ORION HOUSE SERVICES (HK) LIMITED)-[:None {}]->(BONUS TRADE LIMITED)},\n",
       " {'p': (ORION HOUSE SERVICES (HK) LIMITED)-[:None {}]->(AMARANDAN LTD.)},\n",
       " {'p': (ORION HOUSE SERVICES (HK) LIMITED)-[:None {}]->(NEW IDEA LIMITED)},\n",
       " {'p': (ORION HOUSE SERVICES (HK) LIMITED)-[:None {}]->(HUGH POWER LIMITED)},\n",
       " {'p': (ORION HOUSE SERVICES (HK) LIMITED)-[:None {}]->(ULTIMATE GROUP LIMITED)},\n",
       " {'p': (GO SHINE MANAGEMENT CO., LTD)-[:None {}]->(VICTORY GROUP LIMITED)},\n",
       " {'p': (AFOR LAW FIRM, SICHUAN)-[:None {}]->(CHARTER MARK LIMITED)},\n",
       " {'p': (ORION HOUSE SERVICES (HK) LIMITED)-[:None {}]->(Wide International Trading Co., Ltd.)},\n",
       " {'p': (TWC MANAGEMENT LIMITED)-[:None {}]->(HTSS ET CAPITAL LIMITED)},\n",
       " {'p': (MEI SERVICES LIMITED)-[:None {}]->(JIE LUN INVESTMENT LIMITED)},\n",
       " {'p': (AFOR LAW FIRM, SICHUAN)-[:None {}]->(FORTUNE PALACE LIMITED)},\n",
       " {'p': (FCI DAVID RISBEY)-[:None {}]->(LAKE STREET INVESTMENTS LTD.)},\n",
       " {'p': (ORION HOUSE SERVICES (HK) LIMITED)-[:None {}]->(NINGBO RAPID INTERNATIONAL TRADING CO., LTD.)},\n",
       " {'p': (MOSSACK FONSECA & CO. (SINGAPORE) PTE LTD.)-[:None {}]->(ANGELIKA INTERNATIONAL LTD.)},\n",
       " {'p': (GO SHINE MANAGEMENT CO., LTD)-[:None {}]->(CHEM D-T Corp.)},\n",
       " {'p': (GO SHINE MANAGEMENT CO., LTD)-[:None {}]->(PRESTIGE INTERNATIONAL CORP.)},\n",
       " {'p': (DI SAN DI MANAGEMENT COMPANY LIMITED)-[:None {}]->(SUNNY TREASURE INTERNATIONAL LIMITED)},\n",
       " {'p': (METAXAS, SPYRO A.)-[:None {}]->(GIT CO INC.)}]"
      ]
     },
     "execution_count": 57,
     "metadata": {},
     "output_type": "execute_result"
    }
   ],
   "source": [
    "graph.run(\"MATCH p=()-[r:INTERMEDIARY_OF]->() RETURN p LIMIT 25\").data()"
   ]
  },
  {
   "cell_type": "code",
   "execution_count": null,
   "metadata": {},
   "outputs": [],
   "source": [
    "graph.\"MATCH p=()-[r:UNDERLYING]->() RETURN p LIMIT 25\""
   ]
  },
  {
   "cell_type": "code",
   "execution_count": null,
   "metadata": {},
   "outputs": [],
   "source": [
    "\"MATCH p=()-[r:REGISTERED_ADDRESS]->() RETURN p LIMIT 25\""
   ]
  }
 ],
 "metadata": {
  "kernelspec": {
   "display_name": "Python [conda env:anaconda3]",
   "language": "python",
   "name": "conda-env-anaconda3-py"
  },
  "language_info": {
   "codemirror_mode": {
    "name": "ipython",
    "version": 3
   },
   "file_extension": ".py",
   "mimetype": "text/x-python",
   "name": "python",
   "nbconvert_exporter": "python",
   "pygments_lexer": "ipython3",
   "version": "3.6.5"
  }
 },
 "nbformat": 4,
 "nbformat_minor": 2
}
